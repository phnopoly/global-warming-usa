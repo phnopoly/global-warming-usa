{
 "metadata": {
  "language_info": {
   "codemirror_mode": {
    "name": "ipython",
    "version": 3
   },
   "file_extension": ".py",
   "mimetype": "text/x-python",
   "name": "python",
   "nbconvert_exporter": "python",
   "pygments_lexer": "ipython3",
   "version": "3.8.6-final"
  },
  "orig_nbformat": 2,
  "kernelspec": {
   "name": "Python 3.8.6 64-bit",
   "display_name": "Python 3.8.6 64-bit",
   "metadata": {
    "interpreter": {
     "hash": "61376a8c859ea19f3c23e4a04a8b5fd872fbbfd5bf884388c44f67684c0f5519"
    }
   }
  }
 },
 "nbformat": 4,
 "nbformat_minor": 2,
 "cells": [
  {
   "cell_type": "code",
   "execution_count": 24,
   "metadata": {},
   "outputs": [],
   "source": [
    "# Import all needed libraries\n"
   ]
  },
  {
   "cell_type": "code",
   "execution_count": 25,
   "metadata": {},
   "outputs": [
    {
     "output_type": "stream",
     "name": "stdout",
     "text": [
      "c:\\Users\\zsaordenio\\Documents\\Python\\global-warming-usa\\data\n8 csv files detected:\n\n  0 : emission_agriculture.csv\n  1 : emission_all_gases.csv\n  2 : emission_all_sectors.csv\n  3 : emission_commercial.csv\n  4 : emission_electricity_generation.csv\n  5 : emission_industry.csv\n  6 : emission_residential.csv\n  7 : emission_transport.csv\n"
     ]
    }
   ],
   "source": [
    "# Run previous ipynb files\n",
    "%run extractData.ipynb\n"
   ]
  },
  {
   "cell_type": "code",
   "execution_count": 26,
   "metadata": {},
   "outputs": [
    {
     "output_type": "execute_result",
     "data": {
      "text/plain": [
       "  Agriculture Sector        1990        1991        1992        1993  \\\n",
       "0   Crop cultivation  339.072661  328.175150  325.584284  349.609916   \n",
       "1          Livestock  215.281849  217.475742  220.917738  224.862133   \n",
       "2    Fuel combustion   44.612708   44.031628   44.068224   44.142339   \n",
       "3              Total  598.967218  589.682520  590.570246  618.614388   \n",
       "\n",
       "         1994        1995        1996        1997        1998  ...  \\\n",
       "0  329.949691  336.740352  346.092140  335.533196  341.571220  ...   \n",
       "1  231.426176  237.058008  234.957206  233.645593  235.516509  ...   \n",
       "2   44.457250   44.339574   44.024139   44.396349   43.438702  ...   \n",
       "3  605.833117  618.137934  625.073485  613.575138  620.526432  ...   \n",
       "\n",
       "         2009        2010        2011        2012        2013        2014  \\\n",
       "0  343.846566  351.756466  334.623721  317.270598  361.446588  372.734668   \n",
       "1  243.014258  243.241799  241.331808  241.073321  237.483665  235.817181   \n",
       "2   47.015404   47.107727   47.332253   48.551844   46.238006   46.387902   \n",
       "3  633.876228  642.105992  623.287782  606.895764  645.168259  654.939751   \n",
       "\n",
       "         2015        2016        2017        2018  \n",
       "0  372.653560  350.979883  348.323080  359.799296  \n",
       "1  241.913365  249.553483  253.948196  258.702444  \n",
       "2   41.422144   40.447369   40.107538   40.054810  \n",
       "3  655.989069  640.980734  642.378814  658.556550  \n",
       "\n",
       "[4 rows x 30 columns]"
      ],
      "text/html": "<div>\n<style scoped>\n    .dataframe tbody tr th:only-of-type {\n        vertical-align: middle;\n    }\n\n    .dataframe tbody tr th {\n        vertical-align: top;\n    }\n\n    .dataframe thead th {\n        text-align: right;\n    }\n</style>\n<table border=\"1\" class=\"dataframe\">\n  <thead>\n    <tr style=\"text-align: right;\">\n      <th></th>\n      <th>Agriculture Sector</th>\n      <th>1990</th>\n      <th>1991</th>\n      <th>1992</th>\n      <th>1993</th>\n      <th>1994</th>\n      <th>1995</th>\n      <th>1996</th>\n      <th>1997</th>\n      <th>1998</th>\n      <th>...</th>\n      <th>2009</th>\n      <th>2010</th>\n      <th>2011</th>\n      <th>2012</th>\n      <th>2013</th>\n      <th>2014</th>\n      <th>2015</th>\n      <th>2016</th>\n      <th>2017</th>\n      <th>2018</th>\n    </tr>\n  </thead>\n  <tbody>\n    <tr>\n      <th>0</th>\n      <td>Crop cultivation</td>\n      <td>339.072661</td>\n      <td>328.175150</td>\n      <td>325.584284</td>\n      <td>349.609916</td>\n      <td>329.949691</td>\n      <td>336.740352</td>\n      <td>346.092140</td>\n      <td>335.533196</td>\n      <td>341.571220</td>\n      <td>...</td>\n      <td>343.846566</td>\n      <td>351.756466</td>\n      <td>334.623721</td>\n      <td>317.270598</td>\n      <td>361.446588</td>\n      <td>372.734668</td>\n      <td>372.653560</td>\n      <td>350.979883</td>\n      <td>348.323080</td>\n      <td>359.799296</td>\n    </tr>\n    <tr>\n      <th>1</th>\n      <td>Livestock</td>\n      <td>215.281849</td>\n      <td>217.475742</td>\n      <td>220.917738</td>\n      <td>224.862133</td>\n      <td>231.426176</td>\n      <td>237.058008</td>\n      <td>234.957206</td>\n      <td>233.645593</td>\n      <td>235.516509</td>\n      <td>...</td>\n      <td>243.014258</td>\n      <td>243.241799</td>\n      <td>241.331808</td>\n      <td>241.073321</td>\n      <td>237.483665</td>\n      <td>235.817181</td>\n      <td>241.913365</td>\n      <td>249.553483</td>\n      <td>253.948196</td>\n      <td>258.702444</td>\n    </tr>\n    <tr>\n      <th>2</th>\n      <td>Fuel combustion</td>\n      <td>44.612708</td>\n      <td>44.031628</td>\n      <td>44.068224</td>\n      <td>44.142339</td>\n      <td>44.457250</td>\n      <td>44.339574</td>\n      <td>44.024139</td>\n      <td>44.396349</td>\n      <td>43.438702</td>\n      <td>...</td>\n      <td>47.015404</td>\n      <td>47.107727</td>\n      <td>47.332253</td>\n      <td>48.551844</td>\n      <td>46.238006</td>\n      <td>46.387902</td>\n      <td>41.422144</td>\n      <td>40.447369</td>\n      <td>40.107538</td>\n      <td>40.054810</td>\n    </tr>\n    <tr>\n      <th>3</th>\n      <td>Total</td>\n      <td>598.967218</td>\n      <td>589.682520</td>\n      <td>590.570246</td>\n      <td>618.614388</td>\n      <td>605.833117</td>\n      <td>618.137934</td>\n      <td>625.073485</td>\n      <td>613.575138</td>\n      <td>620.526432</td>\n      <td>...</td>\n      <td>633.876228</td>\n      <td>642.105992</td>\n      <td>623.287782</td>\n      <td>606.895764</td>\n      <td>645.168259</td>\n      <td>654.939751</td>\n      <td>655.989069</td>\n      <td>640.980734</td>\n      <td>642.378814</td>\n      <td>658.556550</td>\n    </tr>\n  </tbody>\n</table>\n<p>4 rows × 30 columns</p>\n</div>"
     },
     "metadata": {},
     "execution_count": 26
    }
   ],
   "source": [
    "dfs[0]"
   ]
  },
  {
   "cell_type": "code",
   "execution_count": null,
   "metadata": {},
   "outputs": [],
   "source": []
  }
 ]
}