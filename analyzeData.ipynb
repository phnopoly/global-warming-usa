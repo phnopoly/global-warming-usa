{
 "metadata": {
  "language_info": {
   "codemirror_mode": {
    "name": "ipython",
    "version": 3
   },
   "file_extension": ".py",
   "mimetype": "text/x-python",
   "name": "python",
   "nbconvert_exporter": "python",
   "pygments_lexer": "ipython3",
   "version": "3.8.5-final"
  },
  "orig_nbformat": 2,
  "kernelspec": {
   "name": "python3",
   "display_name": "Python 3"
  }
 },
 "nbformat": 4,
 "nbformat_minor": 2,
 "cells": [
  {
   "cell_type": "code",
   "execution_count": null,
   "metadata": {},
   "outputs": [],
   "source": [
    "# Import all the libraries needed\n",
    "import pandas as pd\n",
    "from scipy import stats\n",
    "import numpy as np\n",
    "from numpy import mean\n",
    "from numpy import std\n",
    "from functools import reduce\n",
    "from statistics import median\n",
    "\n",
    "# Run previous ipynb files First then call MAIN_GRID\n",
    "%run extractData.ipynb"
   ]
  },
  {
   "cell_type": "code",
   "execution_count": null,
   "metadata": {},
   "outputs": [],
   "source": [
    "df_seaLevel = MAIN_GRID[2][1]\n",
    "df_seaLevel.info()"
   ]
  },
  {
   "cell_type": "code",
   "execution_count": null,
   "metadata": {},
   "outputs": [],
   "source": [
    "# Rename columns\n",
    "df_seaLevel = df_seaLevel.rename(index=str, columns={\n",
    "    'CSIRO - Adjusted sea level (inches)': \"CSIRO_ASLinches\", \n",
    "    'Year':'Year_Merge'}\n",
    ")\n",
    "\n",
    "# Filter dataset to 1959-2015 for Year column and CSIRO_ASLinches\n",
    "df_seaLevel_f = df_seaLevel.iloc[0:,[0,1]]\n",
    "df_seaLevel_f = (df_seaLevel_f.set_index(['Year_Merge']).loc[1959:2015]).reset_index()\n",
    "df_seaLevel_f.info()"
   ]
  },
  {
   "cell_type": "code",
   "execution_count": null,
   "metadata": {},
   "outputs": [],
   "source": [
    "# Check for null/NA values\n",
    "df_seaLevel_f.isna().sum()"
   ]
  },
  {
   "cell_type": "code",
   "execution_count": null,
   "metadata": {},
   "outputs": [],
   "source": [
    "#towardsdatascience.com/handling-missing-values-with-pandas-b876bf6f008f\n",
    "#Filling 2 null values with mean of the records \n",
    "#df0_mean = df0_filter['CSIRO_ASLinches'].mean()\n",
    "#df0_filter['CSIRO_ASLinches'].fillna(df0_mean)\n",
    "#df0_mean #6.199642083854547, which is less than that of NOAA have recorded for these years\n",
    "#Alternatively missing values can be replaced with the values before or after them.\n",
    "df_seaLevel_f = df_seaLevel_f.fillna(axis=0, method = 'ffill', limit=2)\n",
    "\n",
    "# Anamoly Detection #https://help.ceda.ac.uk/article/4728-cru-data-python-example\n",
    "# Calculate 57 year average\n",
    "df_seaLevel_f['Anamoly_CSIRO_ASLinches'] = df_seaLevel_f['CSIRO_ASLinches'] - np.mean(df_seaLevel_f['CSIRO_ASLinches']) "
   ]
  },
  {
   "cell_type": "code",
   "execution_count": null,
   "metadata": {},
   "outputs": [],
   "source": [
    "#https://datahub.io/core/global-temp #useful reference data source\n",
    "\n",
    "df_precip = MAIN_GRID[0][0]\n",
    "df_precip.info()"
   ]
  },
  {
   "cell_type": "code",
   "execution_count": null,
   "metadata": {},
   "outputs": [],
   "source": [
    "# Rename columns\n",
    "df_precip = df_precip.rename(index=str, columns={\n",
    "    \"Rainfall - (MM)\": \"Rnf_MM\", \n",
    "    \" Year\": \"Year\", })\n",
    "\n",
    "# Filter data set to 1959-2015 and the columns Year and Rainfall (MM)\n",
    "df_precip_f = df_precip.iloc[0:,[0,1]]\n",
    "df_precip_f = (df_precip_f.set_index(['Year']).loc[1959:2015]).reset_index()\n",
    "df_precip_f.head()"
   ]
  },
  {
   "cell_type": "code",
   "execution_count": null,
   "metadata": {},
   "outputs": [],
   "source": [
    "# Convert Year to proper format\n",
    "df_precip_f['Year'] = pd.to_datetime(df_precip_f['Year'], format='%Y')\n",
    "\n",
    "# Convert Year column to index\n",
    "df_precip_f.set_index('Year',inplace=True)\n",
    "\n",
    "# Alternative methods GroupBy and plot\n",
    "df_precip_f_avgGrp = df_precip_f.groupby(pd.Grouper(freq='Y')).mean()"
   ]
  },
  {
   "cell_type": "code",
   "execution_count": null,
   "metadata": {},
   "outputs": [],
   "source": [
    "# Anamoly Detection #https://help.ceda.ac.uk/article/4728-cru-data-python-example\n",
    "\n",
    " #Calculating 57 year average\n",
    "\n",
    "df_precip_f_avgGrp['Anamoly_RnfMM'] = df_precip_f_avgGrp['Rnf_MM'] - np.mean(df_precip_f_avgGrp['Rnf_MM'])\n",
    "\n",
    "df_precip_f_avgGrp.head()\n",
    "df_precip_f_avgGrp.columns"
   ]
  },
  {
   "cell_type": "code",
   "execution_count": null,
   "metadata": {},
   "outputs": [],
   "source": [
    "# Remove index column\n",
    "df_precip_f_avgGrp.reset_index(level=0, inplace=True)"
   ]
  },
  {
   "cell_type": "code",
   "execution_count": null,
   "metadata": {},
   "outputs": [],
   "source": [
    "# Extract Year to Year_Merge Column\n",
    "df_precip_f_avgGrp['Year_Merge'] = pd.DatetimeIndex(df_precip_f_avgGrp['Year']).year\n",
    "df_precip_f_avgGrp.head()"
   ]
  },
  {
   "cell_type": "code",
   "execution_count": null,
   "metadata": {},
   "outputs": [],
   "source": [
    "df_temp = MAIN_GRID[0][1]\n",
    "df_temp.info()"
   ]
  },
  {
   "cell_type": "code",
   "execution_count": null,
   "metadata": {},
   "outputs": [],
   "source": [
    "# Rename columns\n",
    "df_temp = df_temp.rename(index=str, columns={\n",
    "    \"Temperature - (Celsius)\":\"Tmp_Cls\",\n",
    "    \" Year\": \"Year\"})\n",
    "\n",
    "# Filter dataset to 1959-2015 and the columns Year and Rainfall (MM)\n",
    "df_temp_f = df_temp.iloc[0:,[0,1]]\n",
    "df_temp_f = (df_temp_f.set_index(['Year']).loc[1959:2015]).reset_index()\n",
    "df_temp_f.head()"
   ]
  },
  {
   "cell_type": "code",
   "execution_count": null,
   "metadata": {},
   "outputs": [],
   "source": [
    "# Convert Year to proper format\n",
    "df_temp_f['Year'] = pd.to_datetime(df_temp_f['Year'], format='%Y')\n",
    "\n",
    "# Convert Year column to index\n",
    "df_temp_f.set_index('Year',inplace=True)\n",
    "\n",
    "df2_filter.info()\n",
    "df_temp_f.head()"
   ]
  },
  {
   "cell_type": "code",
   "execution_count": null,
   "metadata": {},
   "outputs": [],
   "source": [
    "# https://stackoverflow.com/questions/23859840/python-aggregate-by-month-and-calculate-average\n",
    "\n",
    "# Alternative methods GroupBy and plot\n",
    "df_temp_f_avgGrp = df_temp_f.groupby(pd.Grouper(freq='Y')).mean()\n",
    "df_temp_f_avgGrp.info()"
   ]
  },
  {
   "cell_type": "code",
   "execution_count": null,
   "metadata": {},
   "outputs": [],
   "source": [
    "# Anamoly Detection #https://help.ceda.ac.uk/article/4728-cru-data-python-example\n",
    "\n",
    "# Calculating 57 years average\n",
    "df_temp_f_avgGrp['Anamoly_TmpCls'] = df_temp_f_avgGrp['Tmp_Cls'] - np.mean(df_temp_f_avgGrp['Tmp_Cls'])\n",
    "df_temp_f_avgGrp.head()"
   ]
  },
  {
   "cell_type": "code",
   "execution_count": null,
   "metadata": {},
   "outputs": [],
   "source": [
    "# Remove index column\n",
    "df_temp_f_avgGrp.reset_index(level=0, inplace=True)\n",
    "\n",
    "# Extract Year to Year_Merge Column\n",
    "df_temp_f_avgGrp['Year_Merge'] = pd.DatetimeIndex(df_temp_f_avgGrp['Year']).year\n",
    "df_temp_f_avgGrp.head()"
   ]
  },
  {
   "cell_type": "code",
   "execution_count": null,
   "metadata": {},
   "outputs": [],
   "source": [
    "df_ghg = MAIN_GRID[2][0]\n",
    "\n",
    "df_ghg.info() \n",
    "df_ghg.columns"
   ]
  },
  {
   "cell_type": "code",
   "execution_count": null,
   "metadata": {},
   "outputs": [],
   "source": [
    "# Rename columns\n",
    "df_ghg = df_ghg.rename(index=str, columns={\n",
    "    \"Year (negative values = BC)\": \"Year\", \n",
    "    \"Mauna Loa, Hawaii\": \"MLHawai_CO2ppm\"})\n",
    "\n",
    "# Filter dataset to columns Year and ml_hawai\n",
    "df_ghg_f = df_ghg.iloc[0:,[0,4]]\n",
    "\n",
    "# https://stackoverflow.com/questions/47444999/check-if-column-contains-type-string-object\n",
    "# Convert everything to numerical values \n",
    "df_ghg_f.loc[:, df_ghg_f.dtypes.eq('object')] = df_ghg_f.loc[:, df_ghg_f.dtypes.eq('object')].apply(pd.to_numeric, errors='coerce')\n",
    "\n",
    "df_ghg_f.info()"
   ]
  },
  {
   "cell_type": "code",
   "execution_count": null,
   "metadata": {},
   "outputs": [],
   "source": [
    "# Filter dataset to 1959-2015 and the columns Year and ml_hawai\n",
    "df_ghg_f = (df_ghg_f.set_index(['Year']).loc[1959:2015]).reset_index()\n",
    "df_ghg_f.info()\n",
    "\n",
    "# Check for null/NA\n",
    "df_ghg_f.isna().sum() "
   ]
  },
  {
   "cell_type": "code",
   "execution_count": null,
   "metadata": {},
   "outputs": [],
   "source": [
    "# Convert Year to proper format\n",
    "df_ghg_f['Year'] = pd.to_datetime(df_ghg_f['Year'], format='%Y')\n",
    "df_ghg_f.info()"
   ]
  },
  {
   "cell_type": "code",
   "execution_count": null,
   "metadata": {},
   "outputs": [],
   "source": [
    "# Anamoly Detection #https://help.ceda.ac.uk/article/4728-cru-data-python-example\n",
    "# Calculating 57 year average\n",
    "df_ghg_f['Anamoly_CO2ppm'] = df_ghg_f['MLHawai_CO2ppm'] - np.mean(df_ghg_f['MLHawai_CO2ppm'])"
   ]
  },
  {
   "cell_type": "code",
   "execution_count": null,
   "metadata": {},
   "outputs": [],
   "source": [
    "# Extract Year to Year_Merge Column\n",
    "df_ghg_f['Year_Merge'] = pd.DatetimeIndex(df_ghg_f['Year']).year\n",
    "df3_filter.head()"
   ]
  },
  {
   "cell_type": "code",
   "execution_count": null,
   "metadata": {},
   "outputs": [],
   "source": [
    "# https://stackoverflow.com/questions/44327999/python-pandas-merge-multiple-dataframes\n",
    "\n",
    "# Merge dataframes and fill the values that don't exist in the lines of merged dataframe simply fill with required strings as\n",
    "dfs_to_merge = [df_precip_f_avgGrp,\n",
    "                    df_temp_f_avgGrp,\n",
    "                    df_seaLevel_f,\n",
    "                    df_ghg_f]\n",
    "\n",
    "df_merged = reduce(lambda left, right: \n",
    "    pd.merge(left, right, on=['Year_Merge'], how='outer'), dfs_to_merge\n",
    ").fillna('void')\n",
    "\n",
    "df_merged.head()"
   ]
  },
  {
   "cell_type": "code",
   "execution_count": null,
   "metadata": {},
   "outputs": [],
   "source": [
    "# Rearrange columns in df_merged\n",
    "df_merged_final = df_merged.iloc[0:,[3,1,2,5,6,7,8,10,11]]\n",
    "\n",
    "# Summarize statistics\n",
    "print('mean=%.3f median =%.3f stdv=%.3f' % (mean(df_precip_f[\"Rnf_MM\"]), median(df_precip_f[\"Rnf_MM\"]), std(df_precip_f[\"Rnf_MM\"])))"
   ]
  },
  {
   "cell_type": "code",
   "execution_count": null,
   "metadata": {},
   "outputs": [],
   "source": [
    "# Normality Check using Hypothesis Testing\n",
    "def isNormal(df, col):\n",
    "    k2, p = stats.normaltest(df[col])\n",
    "    alpha = 1e-3\n",
    "    print(\"p = {:g}\".format(p))\n",
    "    # null hypothesis: x comes from a normal distribution\n",
    "    if p < alpha:  \n",
    "        print(\"The null hypothesis can be rejected for \" + str(col))\n",
    "    else:\n",
    "        print(\"The null hypothesis cannot be rejected for \" + str(col))\n",
    "\n",
    "isNormal(df_precip_f, \"Rnf_MM\")\n",
    "isNormal(df_ghg_f, \"MLHawai_CO2ppm\")"
   ]
  }
 ]
}