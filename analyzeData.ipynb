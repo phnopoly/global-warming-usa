{
 "metadata": {
  "language_info": {
   "codemirror_mode": {
    "name": "ipython",
    "version": 3
   },
   "file_extension": ".py",
   "mimetype": "text/x-python",
   "name": "python",
   "nbconvert_exporter": "python",
   "pygments_lexer": "ipython3",
   "version": "3.8.6-final"
  },
  "orig_nbformat": 2,
  "kernelspec": {
   "name": "Python 3.8.6 64-bit",
   "display_name": "Python 3.8.6 64-bit",
   "metadata": {
    "interpreter": {
     "hash": "61376a8c859ea19f3c23e4a04a8b5fd872fbbfd5bf884388c44f67684c0f5519"
    }
   }
  }
 },
 "nbformat": 4,
 "nbformat_minor": 2,
 "cells": [
  {
   "cell_type": "code",
   "execution_count": 7,
   "metadata": {},
   "outputs": [],
   "source": [
    "# Import all needed libraries\n"
   ]
  },
  {
   "cell_type": "code",
   "execution_count": 8,
   "metadata": {},
   "outputs": [
    {
     "output_type": "stream",
     "name": "stdout",
     "text": [
      "[0] : 2 csv files detected for <climateKnowledge> directory:\n  [0] : pr_1901_2016_USA.csv\n  [1] : tas_1901_2016_USA.csv\n\n[1] : 8 csv files detected for <emission> directory:\n  [0] : emission_agriculture.csv\n  [1] : emission_all_gases.csv\n  [2] : emission_all_sectors.csv\n  [3] : emission_commercial.csv\n  [4] : emission_electricity_generation.csv\n  [5] : emission_industry.csv\n  [6] : emission_residential.csv\n  [7] : emission_transport.csv\n\n[2] : 3 csv files detected for <epa> directory:\n  [0] : ghg-concentrations.csv\n  [1] : sea-level.csv\n  [2] : snow-cover.csv\n\n"
     ]
    }
   ],
   "source": [
    "# Run previous ipynb files\n",
    "%run extractData.ipynb\n"
   ]
  },
  {
   "cell_type": "code",
   "execution_count": 9,
   "metadata": {},
   "outputs": [
    {
     "output_type": "execute_result",
     "data": {
      "text/plain": [
       "      Temperature - (Celsius)   Year    Statistics         Country  ISO3\n",
       "0                    -5.71120   1901   Jan Average   United States   USA\n",
       "1                    -6.55770   1901   Feb Average   United States   USA\n",
       "2                    -0.00450   1901   Mar Average   United States   USA\n",
       "3                     4.78677   1901   Apr Average   United States   USA\n",
       "4                    12.08400   1901   May Average   United States   USA\n",
       "...                       ...    ...           ...             ...   ...\n",
       "1387                 20.18120   2016   Aug Average   United States   USA\n",
       "1388                 16.01500   2016   Sep Average   United States   USA\n",
       "1389                 10.18930   2016   Oct Average   United States   USA\n",
       "1390                  3.36611   2016   Nov Average   United States   USA\n",
       "1391                 -4.05250   2016   Dec Average   United States   USA\n",
       "\n",
       "[1392 rows x 5 columns]"
      ],
      "text/html": "<div>\n<style scoped>\n    .dataframe tbody tr th:only-of-type {\n        vertical-align: middle;\n    }\n\n    .dataframe tbody tr th {\n        vertical-align: top;\n    }\n\n    .dataframe thead th {\n        text-align: right;\n    }\n</style>\n<table border=\"1\" class=\"dataframe\">\n  <thead>\n    <tr style=\"text-align: right;\">\n      <th></th>\n      <th>Temperature - (Celsius)</th>\n      <th>Year</th>\n      <th>Statistics</th>\n      <th>Country</th>\n      <th>ISO3</th>\n    </tr>\n  </thead>\n  <tbody>\n    <tr>\n      <th>0</th>\n      <td>-5.71120</td>\n      <td>1901</td>\n      <td>Jan Average</td>\n      <td>United States</td>\n      <td>USA</td>\n    </tr>\n    <tr>\n      <th>1</th>\n      <td>-6.55770</td>\n      <td>1901</td>\n      <td>Feb Average</td>\n      <td>United States</td>\n      <td>USA</td>\n    </tr>\n    <tr>\n      <th>2</th>\n      <td>-0.00450</td>\n      <td>1901</td>\n      <td>Mar Average</td>\n      <td>United States</td>\n      <td>USA</td>\n    </tr>\n    <tr>\n      <th>3</th>\n      <td>4.78677</td>\n      <td>1901</td>\n      <td>Apr Average</td>\n      <td>United States</td>\n      <td>USA</td>\n    </tr>\n    <tr>\n      <th>4</th>\n      <td>12.08400</td>\n      <td>1901</td>\n      <td>May Average</td>\n      <td>United States</td>\n      <td>USA</td>\n    </tr>\n    <tr>\n      <th>...</th>\n      <td>...</td>\n      <td>...</td>\n      <td>...</td>\n      <td>...</td>\n      <td>...</td>\n    </tr>\n    <tr>\n      <th>1387</th>\n      <td>20.18120</td>\n      <td>2016</td>\n      <td>Aug Average</td>\n      <td>United States</td>\n      <td>USA</td>\n    </tr>\n    <tr>\n      <th>1388</th>\n      <td>16.01500</td>\n      <td>2016</td>\n      <td>Sep Average</td>\n      <td>United States</td>\n      <td>USA</td>\n    </tr>\n    <tr>\n      <th>1389</th>\n      <td>10.18930</td>\n      <td>2016</td>\n      <td>Oct Average</td>\n      <td>United States</td>\n      <td>USA</td>\n    </tr>\n    <tr>\n      <th>1390</th>\n      <td>3.36611</td>\n      <td>2016</td>\n      <td>Nov Average</td>\n      <td>United States</td>\n      <td>USA</td>\n    </tr>\n    <tr>\n      <th>1391</th>\n      <td>-4.05250</td>\n      <td>2016</td>\n      <td>Dec Average</td>\n      <td>United States</td>\n      <td>USA</td>\n    </tr>\n  </tbody>\n</table>\n<p>1392 rows × 5 columns</p>\n</div>"
     },
     "metadata": {},
     "execution_count": 9
    }
   ],
   "source": [
    "MAIN_GRID[0][1]"
   ]
  },
  {
   "cell_type": "code",
   "execution_count": null,
   "metadata": {},
   "outputs": [],
   "source": []
  }
 ]
}