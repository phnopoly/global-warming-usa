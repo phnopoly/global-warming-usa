{
 "metadata": {
  "language_info": {
   "codemirror_mode": {
    "name": "ipython",
    "version": 3
   },
   "file_extension": ".py",
   "mimetype": "text/x-python",
   "name": "python",
   "nbconvert_exporter": "python",
   "pygments_lexer": "ipython3",
   "version": "3.8.6-final"
  },
  "orig_nbformat": 2,
  "kernelspec": {
   "name": "Python 3.8.6 64-bit",
   "display_name": "Python 3.8.6 64-bit",
   "metadata": {
    "interpreter": {
     "hash": "61376a8c859ea19f3c23e4a04a8b5fd872fbbfd5bf884388c44f67684c0f5519"
    }
   }
  }
 },
 "nbformat": 4,
 "nbformat_minor": 2,
 "cells": [
  {
   "cell_type": "code",
   "execution_count": 47,
   "metadata": {},
   "outputs": [],
   "source": [
    "# Import all needed libraries\n",
    "\n",
    "import pandas as pd\n",
    "import altair as alt\n",
    "import csv\n",
    "from os import listdir\n",
    "from os.path import isfile, join"
   ]
  },
  {
   "cell_type": "code",
   "execution_count": 53,
   "metadata": {},
   "outputs": [
    {
     "output_type": "stream",
     "name": "stdout",
     "text": [
      "c:\\Users\\zsaordenio\\Documents\\Python\\global-warming-usa\\data\n"
     ]
    }
   ],
   "source": [
    "# Functions to extract data from csv\n",
    "\n",
    "# Root directory of the project repo\n",
    "ROOT_DIR = os.path.abspath(os.curdir) \n",
    "DATA_DIR = ROOT_DIR + \"\\\\data\"\n",
    "print(DATA_DIR)\n",
    "\n",
    "# Get all csv files from root directory \n",
    "def readCSVFiles(subFolderPath):\n",
    "    files = []\n",
    "    localDir = DATA_DIR+ subFolderPath\n",
    "    for file in listdir(localDir):\n",
    "        if isfile(join(localDir, file)) and file[-4:] == \".csv\":\n",
    "            files.append(file)\n",
    "    return files\n",
    "\n",
    "# Display all raw filenames\n",
    "def printFiles(csvFiles):\n",
    "    n = len(csvFiles)\n",
    "    print(str(n) + \" csv files detected:\\n\")\n",
    "    for i in range(n):\n",
    "        print('  {} : {}'.format(i, csvFiles[i]))\n",
    "\n",
    "# Given list of csvFiles, return a list of dataframes\n",
    "def createDataFrames(subFolderPath, csvFiles):\n",
    "    dfs = []\n",
    "    for fileName in csvFiles:\n",
    "        dfs.append(pd.read_csv(\"data/\" + subFolderPath + fileName))\n",
    "    return dfs\n"
   ]
  },
  {
   "cell_type": "code",
   "execution_count": 54,
   "metadata": {},
   "outputs": [
    {
     "output_type": "stream",
     "name": "stdout",
     "text": [
      "8 csv files detected:\n\n  0 : emission_agriculture.csv\n  1 : emission_all_gases.csv\n  2 : emission_all_sectors.csv\n  3 : emission_commercial.csv\n  4 : emission_electricity_generation.csv\n  5 : emission_industry.csv\n  6 : emission_residential.csv\n  7 : emission_transport.csv\n"
     ]
    },
    {
     "output_type": "error",
     "ename": "FileNotFoundError",
     "evalue": "[Errno 2] No such file or directory: 'data/emission_agriculture.csv'",
     "traceback": [
      "\u001b[1;31m---------------------------------------------------------------------------\u001b[0m",
      "\u001b[1;31mFileNotFoundError\u001b[0m                         Traceback (most recent call last)",
      "\u001b[1;32m<ipython-input-54-a093d64a6a97>\u001b[0m in \u001b[0;36m<module>\u001b[1;34m\u001b[0m\n\u001b[0;32m      2\u001b[0m \u001b[0mprintFiles\u001b[0m\u001b[1;33m(\u001b[0m\u001b[0memissionCsvFiles\u001b[0m\u001b[1;33m)\u001b[0m\u001b[1;33m\u001b[0m\u001b[1;33m\u001b[0m\u001b[0m\n\u001b[0;32m      3\u001b[0m \u001b[1;33m\u001b[0m\u001b[0m\n\u001b[1;32m----> 4\u001b[1;33m \u001b[0memissionDfs\u001b[0m \u001b[1;33m=\u001b[0m \u001b[0mcreateDataFrames\u001b[0m\u001b[1;33m(\u001b[0m\u001b[0memissionCsvFiles\u001b[0m\u001b[1;33m)\u001b[0m\u001b[1;33m\u001b[0m\u001b[1;33m\u001b[0m\u001b[0m\n\u001b[0m",
      "\u001b[1;32m<ipython-input-53-92b72d8e9a0c>\u001b[0m in \u001b[0;36mcreateDataFrames\u001b[1;34m(csvFiles)\u001b[0m\n\u001b[0;32m     26\u001b[0m     \u001b[0mdfs\u001b[0m \u001b[1;33m=\u001b[0m \u001b[1;33m[\u001b[0m\u001b[1;33m]\u001b[0m\u001b[1;33m\u001b[0m\u001b[1;33m\u001b[0m\u001b[0m\n\u001b[0;32m     27\u001b[0m     \u001b[1;32mfor\u001b[0m \u001b[0mfileName\u001b[0m \u001b[1;32min\u001b[0m \u001b[0mcsvFiles\u001b[0m\u001b[1;33m:\u001b[0m\u001b[1;33m\u001b[0m\u001b[1;33m\u001b[0m\u001b[0m\n\u001b[1;32m---> 28\u001b[1;33m         \u001b[0mdfs\u001b[0m\u001b[1;33m.\u001b[0m\u001b[0mappend\u001b[0m\u001b[1;33m(\u001b[0m\u001b[0mpd\u001b[0m\u001b[1;33m.\u001b[0m\u001b[0mread_csv\u001b[0m\u001b[1;33m(\u001b[0m\u001b[1;34m\"data/\"\u001b[0m \u001b[1;33m+\u001b[0m \u001b[0mfileName\u001b[0m\u001b[1;33m)\u001b[0m\u001b[1;33m)\u001b[0m\u001b[1;33m\u001b[0m\u001b[1;33m\u001b[0m\u001b[0m\n\u001b[0m\u001b[0;32m     29\u001b[0m     \u001b[1;32mreturn\u001b[0m \u001b[0mdfs\u001b[0m\u001b[1;33m\u001b[0m\u001b[1;33m\u001b[0m\u001b[0m\n",
      "\u001b[1;32m~\\AppData\\Local\\Packages\\PythonSoftwareFoundation.Python.3.8_qbz5n2kfra8p0\\LocalCache\\local-packages\\Python38\\site-packages\\pandas\\io\\parsers.py\u001b[0m in \u001b[0;36mread_csv\u001b[1;34m(filepath_or_buffer, sep, delimiter, header, names, index_col, usecols, squeeze, prefix, mangle_dupe_cols, dtype, engine, converters, true_values, false_values, skipinitialspace, skiprows, skipfooter, nrows, na_values, keep_default_na, na_filter, verbose, skip_blank_lines, parse_dates, infer_datetime_format, keep_date_col, date_parser, dayfirst, cache_dates, iterator, chunksize, compression, thousands, decimal, lineterminator, quotechar, quoting, doublequote, escapechar, comment, encoding, dialect, error_bad_lines, warn_bad_lines, delim_whitespace, low_memory, memory_map, float_precision)\u001b[0m\n\u001b[0;32m    684\u001b[0m     )\n\u001b[0;32m    685\u001b[0m \u001b[1;33m\u001b[0m\u001b[0m\n\u001b[1;32m--> 686\u001b[1;33m     \u001b[1;32mreturn\u001b[0m \u001b[0m_read\u001b[0m\u001b[1;33m(\u001b[0m\u001b[0mfilepath_or_buffer\u001b[0m\u001b[1;33m,\u001b[0m \u001b[0mkwds\u001b[0m\u001b[1;33m)\u001b[0m\u001b[1;33m\u001b[0m\u001b[1;33m\u001b[0m\u001b[0m\n\u001b[0m\u001b[0;32m    687\u001b[0m \u001b[1;33m\u001b[0m\u001b[0m\n\u001b[0;32m    688\u001b[0m \u001b[1;33m\u001b[0m\u001b[0m\n",
      "\u001b[1;32m~\\AppData\\Local\\Packages\\PythonSoftwareFoundation.Python.3.8_qbz5n2kfra8p0\\LocalCache\\local-packages\\Python38\\site-packages\\pandas\\io\\parsers.py\u001b[0m in \u001b[0;36m_read\u001b[1;34m(filepath_or_buffer, kwds)\u001b[0m\n\u001b[0;32m    450\u001b[0m \u001b[1;33m\u001b[0m\u001b[0m\n\u001b[0;32m    451\u001b[0m     \u001b[1;31m# Create the parser.\u001b[0m\u001b[1;33m\u001b[0m\u001b[1;33m\u001b[0m\u001b[1;33m\u001b[0m\u001b[0m\n\u001b[1;32m--> 452\u001b[1;33m     \u001b[0mparser\u001b[0m \u001b[1;33m=\u001b[0m \u001b[0mTextFileReader\u001b[0m\u001b[1;33m(\u001b[0m\u001b[0mfp_or_buf\u001b[0m\u001b[1;33m,\u001b[0m \u001b[1;33m**\u001b[0m\u001b[0mkwds\u001b[0m\u001b[1;33m)\u001b[0m\u001b[1;33m\u001b[0m\u001b[1;33m\u001b[0m\u001b[0m\n\u001b[0m\u001b[0;32m    453\u001b[0m \u001b[1;33m\u001b[0m\u001b[0m\n\u001b[0;32m    454\u001b[0m     \u001b[1;32mif\u001b[0m \u001b[0mchunksize\u001b[0m \u001b[1;32mor\u001b[0m \u001b[0miterator\u001b[0m\u001b[1;33m:\u001b[0m\u001b[1;33m\u001b[0m\u001b[1;33m\u001b[0m\u001b[0m\n",
      "\u001b[1;32m~\\AppData\\Local\\Packages\\PythonSoftwareFoundation.Python.3.8_qbz5n2kfra8p0\\LocalCache\\local-packages\\Python38\\site-packages\\pandas\\io\\parsers.py\u001b[0m in \u001b[0;36m__init__\u001b[1;34m(self, f, engine, **kwds)\u001b[0m\n\u001b[0;32m    934\u001b[0m             \u001b[0mself\u001b[0m\u001b[1;33m.\u001b[0m\u001b[0moptions\u001b[0m\u001b[1;33m[\u001b[0m\u001b[1;34m\"has_index_names\"\u001b[0m\u001b[1;33m]\u001b[0m \u001b[1;33m=\u001b[0m \u001b[0mkwds\u001b[0m\u001b[1;33m[\u001b[0m\u001b[1;34m\"has_index_names\"\u001b[0m\u001b[1;33m]\u001b[0m\u001b[1;33m\u001b[0m\u001b[1;33m\u001b[0m\u001b[0m\n\u001b[0;32m    935\u001b[0m \u001b[1;33m\u001b[0m\u001b[0m\n\u001b[1;32m--> 936\u001b[1;33m         \u001b[0mself\u001b[0m\u001b[1;33m.\u001b[0m\u001b[0m_make_engine\u001b[0m\u001b[1;33m(\u001b[0m\u001b[0mself\u001b[0m\u001b[1;33m.\u001b[0m\u001b[0mengine\u001b[0m\u001b[1;33m)\u001b[0m\u001b[1;33m\u001b[0m\u001b[1;33m\u001b[0m\u001b[0m\n\u001b[0m\u001b[0;32m    937\u001b[0m \u001b[1;33m\u001b[0m\u001b[0m\n\u001b[0;32m    938\u001b[0m     \u001b[1;32mdef\u001b[0m \u001b[0mclose\u001b[0m\u001b[1;33m(\u001b[0m\u001b[0mself\u001b[0m\u001b[1;33m)\u001b[0m\u001b[1;33m:\u001b[0m\u001b[1;33m\u001b[0m\u001b[1;33m\u001b[0m\u001b[0m\n",
      "\u001b[1;32m~\\AppData\\Local\\Packages\\PythonSoftwareFoundation.Python.3.8_qbz5n2kfra8p0\\LocalCache\\local-packages\\Python38\\site-packages\\pandas\\io\\parsers.py\u001b[0m in \u001b[0;36m_make_engine\u001b[1;34m(self, engine)\u001b[0m\n\u001b[0;32m   1166\u001b[0m     \u001b[1;32mdef\u001b[0m \u001b[0m_make_engine\u001b[0m\u001b[1;33m(\u001b[0m\u001b[0mself\u001b[0m\u001b[1;33m,\u001b[0m \u001b[0mengine\u001b[0m\u001b[1;33m=\u001b[0m\u001b[1;34m\"c\"\u001b[0m\u001b[1;33m)\u001b[0m\u001b[1;33m:\u001b[0m\u001b[1;33m\u001b[0m\u001b[1;33m\u001b[0m\u001b[0m\n\u001b[0;32m   1167\u001b[0m         \u001b[1;32mif\u001b[0m \u001b[0mengine\u001b[0m \u001b[1;33m==\u001b[0m \u001b[1;34m\"c\"\u001b[0m\u001b[1;33m:\u001b[0m\u001b[1;33m\u001b[0m\u001b[1;33m\u001b[0m\u001b[0m\n\u001b[1;32m-> 1168\u001b[1;33m             \u001b[0mself\u001b[0m\u001b[1;33m.\u001b[0m\u001b[0m_engine\u001b[0m \u001b[1;33m=\u001b[0m \u001b[0mCParserWrapper\u001b[0m\u001b[1;33m(\u001b[0m\u001b[0mself\u001b[0m\u001b[1;33m.\u001b[0m\u001b[0mf\u001b[0m\u001b[1;33m,\u001b[0m \u001b[1;33m**\u001b[0m\u001b[0mself\u001b[0m\u001b[1;33m.\u001b[0m\u001b[0moptions\u001b[0m\u001b[1;33m)\u001b[0m\u001b[1;33m\u001b[0m\u001b[1;33m\u001b[0m\u001b[0m\n\u001b[0m\u001b[0;32m   1169\u001b[0m         \u001b[1;32melse\u001b[0m\u001b[1;33m:\u001b[0m\u001b[1;33m\u001b[0m\u001b[1;33m\u001b[0m\u001b[0m\n\u001b[0;32m   1170\u001b[0m             \u001b[1;32mif\u001b[0m \u001b[0mengine\u001b[0m \u001b[1;33m==\u001b[0m \u001b[1;34m\"python\"\u001b[0m\u001b[1;33m:\u001b[0m\u001b[1;33m\u001b[0m\u001b[1;33m\u001b[0m\u001b[0m\n",
      "\u001b[1;32m~\\AppData\\Local\\Packages\\PythonSoftwareFoundation.Python.3.8_qbz5n2kfra8p0\\LocalCache\\local-packages\\Python38\\site-packages\\pandas\\io\\parsers.py\u001b[0m in \u001b[0;36m__init__\u001b[1;34m(self, src, **kwds)\u001b[0m\n\u001b[0;32m   1996\u001b[0m         \u001b[0mkwds\u001b[0m\u001b[1;33m[\u001b[0m\u001b[1;34m\"usecols\"\u001b[0m\u001b[1;33m]\u001b[0m \u001b[1;33m=\u001b[0m \u001b[0mself\u001b[0m\u001b[1;33m.\u001b[0m\u001b[0musecols\u001b[0m\u001b[1;33m\u001b[0m\u001b[1;33m\u001b[0m\u001b[0m\n\u001b[0;32m   1997\u001b[0m \u001b[1;33m\u001b[0m\u001b[0m\n\u001b[1;32m-> 1998\u001b[1;33m         \u001b[0mself\u001b[0m\u001b[1;33m.\u001b[0m\u001b[0m_reader\u001b[0m \u001b[1;33m=\u001b[0m \u001b[0mparsers\u001b[0m\u001b[1;33m.\u001b[0m\u001b[0mTextReader\u001b[0m\u001b[1;33m(\u001b[0m\u001b[0msrc\u001b[0m\u001b[1;33m,\u001b[0m \u001b[1;33m**\u001b[0m\u001b[0mkwds\u001b[0m\u001b[1;33m)\u001b[0m\u001b[1;33m\u001b[0m\u001b[1;33m\u001b[0m\u001b[0m\n\u001b[0m\u001b[0;32m   1999\u001b[0m         \u001b[0mself\u001b[0m\u001b[1;33m.\u001b[0m\u001b[0munnamed_cols\u001b[0m \u001b[1;33m=\u001b[0m \u001b[0mself\u001b[0m\u001b[1;33m.\u001b[0m\u001b[0m_reader\u001b[0m\u001b[1;33m.\u001b[0m\u001b[0munnamed_cols\u001b[0m\u001b[1;33m\u001b[0m\u001b[1;33m\u001b[0m\u001b[0m\n\u001b[0;32m   2000\u001b[0m \u001b[1;33m\u001b[0m\u001b[0m\n",
      "\u001b[1;32mpandas\\_libs\\parsers.pyx\u001b[0m in \u001b[0;36mpandas._libs.parsers.TextReader.__cinit__\u001b[1;34m()\u001b[0m\n",
      "\u001b[1;32mpandas\\_libs\\parsers.pyx\u001b[0m in \u001b[0;36mpandas._libs.parsers.TextReader._setup_parser_source\u001b[1;34m()\u001b[0m\n",
      "\u001b[1;31mFileNotFoundError\u001b[0m: [Errno 2] No such file or directory: 'data/emission_agriculture.csv'"
     ]
    }
   ],
   "source": [
    "emissionCsvFiles = readCSVFiles(\"\\\\emission\")\n",
    "printFiles(emissionCsvFiles)\n",
    "\n",
    "emissionDfs = createDataFrames(\"emission/\", emissionCsvFiles)"
   ]
  },
  {
   "cell_type": "code",
   "execution_count": 50,
   "metadata": {
    "tags": []
   },
   "outputs": [
    {
     "output_type": "execute_result",
     "data": {
      "text/plain": [
       "          Economic Sector         1990         1991         1992         1993  \\\n",
       "0          Transportation  1527.071188  1480.927212  1540.530936  1577.519112   \n",
       "1  Electricity generation  1875.593659  1871.622530  1886.593971  1962.354970   \n",
       "2                Industry  1628.676867  1602.045952  1633.075916  1602.408186   \n",
       "3             Agriculture   598.967218   589.682520   590.570246   618.614388   \n",
       "4              Commercial   428.668347   435.610013   431.178707   424.627494   \n",
       "5             Residential   344.701666   354.247606   360.821161   372.164956   \n",
       "6        U.S. territories    33.321186    39.123871    37.315650    39.085447   \n",
       "7                   Total  6437.000131  6373.259703  6480.086588  6596.774554   \n",
       "\n",
       "          1994         1995         1996         1997         1998  ...  \\\n",
       "0  1632.153745  1667.328361  1723.497937  1750.008339  1792.365801  ...   \n",
       "1  1987.151999  2003.872715  2076.854716  2143.022602  2229.562822  ...   \n",
       "2  1628.107251  1646.809850  1674.908854  1672.315953  1644.509941  ...   \n",
       "3   605.833117   618.137934   625.073485   613.575138   620.526432  ...   \n",
       "4   428.065622   427.284274   434.832768   427.624054   402.075852  ...   \n",
       "5   362.939297   367.158678   398.995438   380.422766   346.477147  ...   \n",
       "6    41.479440    40.423829    40.243846    41.835783    42.232269  ...   \n",
       "7  6685.730471  6771.015640  6974.407044  7028.804635  7077.750264  ...   \n",
       "\n",
       "          2009         2010         2011         2012         2013  \\\n",
       "0  1792.976080  1801.062036  1768.632996  1750.432127  1756.407187   \n",
       "1  2196.033477  2312.117767  2209.814594  2070.927498  2088.886182   \n",
       "2  1311.265849  1403.792368  1407.832690  1400.931977  1453.954571   \n",
       "3   633.876228   642.105992   623.287782   606.895764   645.168259   \n",
       "4   417.831029   420.249722   415.624495   395.755763   419.065286   \n",
       "5   354.682780   355.722892   349.317337   307.273218   357.995952   \n",
       "6    47.240643    46.562267    46.023576    48.458468    48.073592   \n",
       "7  6753.906086  6981.613045  6820.533469  6580.674816  6769.551029   \n",
       "\n",
       "          2014         2015         2016         2017         2018  \n",
       "0  1791.621093  1800.244091  1835.606604  1852.310850  1882.557612  \n",
       "1  2089.120514  1949.233643  1856.805928  1778.395519  1798.925112  \n",
       "2  1438.777852  1429.754293  1388.787803  1411.526695  1470.743037  \n",
       "3   654.939751   655.989069   640.980734   642.378814   658.556550  \n",
       "4   429.352426   442.511516   426.991129   426.763985   443.321738  \n",
       "5   378.575143   352.002720   328.277055   330.234728   375.919063  \n",
       "6    46.629876    46.636094    46.631184    46.624050    46.626504  \n",
       "7  6829.016655  6676.371427  6524.080438  6488.234640  6676.649617  \n",
       "\n",
       "[8 rows x 30 columns]"
      ],
      "text/html": "<div>\n<style scoped>\n    .dataframe tbody tr th:only-of-type {\n        vertical-align: middle;\n    }\n\n    .dataframe tbody tr th {\n        vertical-align: top;\n    }\n\n    .dataframe thead th {\n        text-align: right;\n    }\n</style>\n<table border=\"1\" class=\"dataframe\">\n  <thead>\n    <tr style=\"text-align: right;\">\n      <th></th>\n      <th>Economic Sector</th>\n      <th>1990</th>\n      <th>1991</th>\n      <th>1992</th>\n      <th>1993</th>\n      <th>1994</th>\n      <th>1995</th>\n      <th>1996</th>\n      <th>1997</th>\n      <th>1998</th>\n      <th>...</th>\n      <th>2009</th>\n      <th>2010</th>\n      <th>2011</th>\n      <th>2012</th>\n      <th>2013</th>\n      <th>2014</th>\n      <th>2015</th>\n      <th>2016</th>\n      <th>2017</th>\n      <th>2018</th>\n    </tr>\n  </thead>\n  <tbody>\n    <tr>\n      <th>0</th>\n      <td>Transportation</td>\n      <td>1527.071188</td>\n      <td>1480.927212</td>\n      <td>1540.530936</td>\n      <td>1577.519112</td>\n      <td>1632.153745</td>\n      <td>1667.328361</td>\n      <td>1723.497937</td>\n      <td>1750.008339</td>\n      <td>1792.365801</td>\n      <td>...</td>\n      <td>1792.976080</td>\n      <td>1801.062036</td>\n      <td>1768.632996</td>\n      <td>1750.432127</td>\n      <td>1756.407187</td>\n      <td>1791.621093</td>\n      <td>1800.244091</td>\n      <td>1835.606604</td>\n      <td>1852.310850</td>\n      <td>1882.557612</td>\n    </tr>\n    <tr>\n      <th>1</th>\n      <td>Electricity generation</td>\n      <td>1875.593659</td>\n      <td>1871.622530</td>\n      <td>1886.593971</td>\n      <td>1962.354970</td>\n      <td>1987.151999</td>\n      <td>2003.872715</td>\n      <td>2076.854716</td>\n      <td>2143.022602</td>\n      <td>2229.562822</td>\n      <td>...</td>\n      <td>2196.033477</td>\n      <td>2312.117767</td>\n      <td>2209.814594</td>\n      <td>2070.927498</td>\n      <td>2088.886182</td>\n      <td>2089.120514</td>\n      <td>1949.233643</td>\n      <td>1856.805928</td>\n      <td>1778.395519</td>\n      <td>1798.925112</td>\n    </tr>\n    <tr>\n      <th>2</th>\n      <td>Industry</td>\n      <td>1628.676867</td>\n      <td>1602.045952</td>\n      <td>1633.075916</td>\n      <td>1602.408186</td>\n      <td>1628.107251</td>\n      <td>1646.809850</td>\n      <td>1674.908854</td>\n      <td>1672.315953</td>\n      <td>1644.509941</td>\n      <td>...</td>\n      <td>1311.265849</td>\n      <td>1403.792368</td>\n      <td>1407.832690</td>\n      <td>1400.931977</td>\n      <td>1453.954571</td>\n      <td>1438.777852</td>\n      <td>1429.754293</td>\n      <td>1388.787803</td>\n      <td>1411.526695</td>\n      <td>1470.743037</td>\n    </tr>\n    <tr>\n      <th>3</th>\n      <td>Agriculture</td>\n      <td>598.967218</td>\n      <td>589.682520</td>\n      <td>590.570246</td>\n      <td>618.614388</td>\n      <td>605.833117</td>\n      <td>618.137934</td>\n      <td>625.073485</td>\n      <td>613.575138</td>\n      <td>620.526432</td>\n      <td>...</td>\n      <td>633.876228</td>\n      <td>642.105992</td>\n      <td>623.287782</td>\n      <td>606.895764</td>\n      <td>645.168259</td>\n      <td>654.939751</td>\n      <td>655.989069</td>\n      <td>640.980734</td>\n      <td>642.378814</td>\n      <td>658.556550</td>\n    </tr>\n    <tr>\n      <th>4</th>\n      <td>Commercial</td>\n      <td>428.668347</td>\n      <td>435.610013</td>\n      <td>431.178707</td>\n      <td>424.627494</td>\n      <td>428.065622</td>\n      <td>427.284274</td>\n      <td>434.832768</td>\n      <td>427.624054</td>\n      <td>402.075852</td>\n      <td>...</td>\n      <td>417.831029</td>\n      <td>420.249722</td>\n      <td>415.624495</td>\n      <td>395.755763</td>\n      <td>419.065286</td>\n      <td>429.352426</td>\n      <td>442.511516</td>\n      <td>426.991129</td>\n      <td>426.763985</td>\n      <td>443.321738</td>\n    </tr>\n    <tr>\n      <th>5</th>\n      <td>Residential</td>\n      <td>344.701666</td>\n      <td>354.247606</td>\n      <td>360.821161</td>\n      <td>372.164956</td>\n      <td>362.939297</td>\n      <td>367.158678</td>\n      <td>398.995438</td>\n      <td>380.422766</td>\n      <td>346.477147</td>\n      <td>...</td>\n      <td>354.682780</td>\n      <td>355.722892</td>\n      <td>349.317337</td>\n      <td>307.273218</td>\n      <td>357.995952</td>\n      <td>378.575143</td>\n      <td>352.002720</td>\n      <td>328.277055</td>\n      <td>330.234728</td>\n      <td>375.919063</td>\n    </tr>\n    <tr>\n      <th>6</th>\n      <td>U.S. territories</td>\n      <td>33.321186</td>\n      <td>39.123871</td>\n      <td>37.315650</td>\n      <td>39.085447</td>\n      <td>41.479440</td>\n      <td>40.423829</td>\n      <td>40.243846</td>\n      <td>41.835783</td>\n      <td>42.232269</td>\n      <td>...</td>\n      <td>47.240643</td>\n      <td>46.562267</td>\n      <td>46.023576</td>\n      <td>48.458468</td>\n      <td>48.073592</td>\n      <td>46.629876</td>\n      <td>46.636094</td>\n      <td>46.631184</td>\n      <td>46.624050</td>\n      <td>46.626504</td>\n    </tr>\n    <tr>\n      <th>7</th>\n      <td>Total</td>\n      <td>6437.000131</td>\n      <td>6373.259703</td>\n      <td>6480.086588</td>\n      <td>6596.774554</td>\n      <td>6685.730471</td>\n      <td>6771.015640</td>\n      <td>6974.407044</td>\n      <td>7028.804635</td>\n      <td>7077.750264</td>\n      <td>...</td>\n      <td>6753.906086</td>\n      <td>6981.613045</td>\n      <td>6820.533469</td>\n      <td>6580.674816</td>\n      <td>6769.551029</td>\n      <td>6829.016655</td>\n      <td>6676.371427</td>\n      <td>6524.080438</td>\n      <td>6488.234640</td>\n      <td>6676.649617</td>\n    </tr>\n  </tbody>\n</table>\n<p>8 rows × 30 columns</p>\n</div>"
     },
     "metadata": {},
     "execution_count": 50
    }
   ],
   "source": [
    "emissionDfs[2]\n"
   ]
  },
  {
   "cell_type": "code",
   "execution_count": 51,
   "metadata": {},
   "outputs": [],
   "source": [
    "#1990-2015\n",
    "def trimEmissionColumnDates():\n",
    "    for i in range(len(emissionDfs)):\n",
    "        emissionDfs[i] = emissionDfs[i].drop(['2016', '2017', '2018'], axis=1)  "
   ]
  },
  {
   "cell_type": "code",
   "execution_count": 52,
   "metadata": {},
   "outputs": [
    {
     "output_type": "execute_result",
     "data": {
      "text/plain": [
       "                 Gas         1990         1991         1992         1993  \\\n",
       "0     Carbon dioxide  5128.300617  5078.889576  5182.706720  5283.437595   \n",
       "1            Methane   774.409534   778.860543   777.754009   765.962683   \n",
       "2      Nitrous oxide   434.624267   424.828286   424.348137   452.370543   \n",
       "3  Fluorinated gases    99.665712    90.681299    95.277722    95.003732   \n",
       "4              Total  6437.000131  6373.259703  6480.086588  6596.774554   \n",
       "\n",
       "          1994         1995         1996         1997         1998  ...  \\\n",
       "0  5377.032708  5438.905704  5626.911901  5703.706968  5751.051980  ...   \n",
       "1   772.160762   764.998071   757.630506   741.833574   726.699755  ...   \n",
       "2   437.560064   449.257545   460.856922   446.662739   446.989496  ...   \n",
       "3    98.976937   117.854321   129.007715   136.601354   153.009033  ...   \n",
       "4  6685.730471  6771.015640  6974.407044  7028.804635  7077.750264  ...   \n",
       "\n",
       "          2006         2007         2008         2009         2010  \\\n",
       "0  6051.051022  6128.429640  5930.539643  5491.035727  5698.055779   \n",
       "1   683.953836   685.669534   691.692053   680.197813   682.336329   \n",
       "2   428.713767   439.932894   423.646181   422.461462   431.423771   \n",
       "3   150.670267   162.422400   164.251425   160.211084   169.797165   \n",
       "4  7314.388891  7416.454469  7210.129302  6753.906086  6981.613045   \n",
       "\n",
       "          2011         2012         2013         2014         2015  \n",
       "0  5565.294401  5367.568555  5514.029294  5561.719216  5412.432194  \n",
       "1   656.270447   646.830144   642.457536   639.011110   638.482827  \n",
       "2   421.855668   392.262993   439.175241   449.265174   443.821302  \n",
       "3   177.112953   174.013124   173.888957   179.021155   181.635104  \n",
       "4  6820.533469  6580.674816  6769.551029  6829.016655  6676.371427  \n",
       "\n",
       "[5 rows x 27 columns]"
      ],
      "text/html": "<div>\n<style scoped>\n    .dataframe tbody tr th:only-of-type {\n        vertical-align: middle;\n    }\n\n    .dataframe tbody tr th {\n        vertical-align: top;\n    }\n\n    .dataframe thead th {\n        text-align: right;\n    }\n</style>\n<table border=\"1\" class=\"dataframe\">\n  <thead>\n    <tr style=\"text-align: right;\">\n      <th></th>\n      <th>Gas</th>\n      <th>1990</th>\n      <th>1991</th>\n      <th>1992</th>\n      <th>1993</th>\n      <th>1994</th>\n      <th>1995</th>\n      <th>1996</th>\n      <th>1997</th>\n      <th>1998</th>\n      <th>...</th>\n      <th>2006</th>\n      <th>2007</th>\n      <th>2008</th>\n      <th>2009</th>\n      <th>2010</th>\n      <th>2011</th>\n      <th>2012</th>\n      <th>2013</th>\n      <th>2014</th>\n      <th>2015</th>\n    </tr>\n  </thead>\n  <tbody>\n    <tr>\n      <th>0</th>\n      <td>Carbon dioxide</td>\n      <td>5128.300617</td>\n      <td>5078.889576</td>\n      <td>5182.706720</td>\n      <td>5283.437595</td>\n      <td>5377.032708</td>\n      <td>5438.905704</td>\n      <td>5626.911901</td>\n      <td>5703.706968</td>\n      <td>5751.051980</td>\n      <td>...</td>\n      <td>6051.051022</td>\n      <td>6128.429640</td>\n      <td>5930.539643</td>\n      <td>5491.035727</td>\n      <td>5698.055779</td>\n      <td>5565.294401</td>\n      <td>5367.568555</td>\n      <td>5514.029294</td>\n      <td>5561.719216</td>\n      <td>5412.432194</td>\n    </tr>\n    <tr>\n      <th>1</th>\n      <td>Methane</td>\n      <td>774.409534</td>\n      <td>778.860543</td>\n      <td>777.754009</td>\n      <td>765.962683</td>\n      <td>772.160762</td>\n      <td>764.998071</td>\n      <td>757.630506</td>\n      <td>741.833574</td>\n      <td>726.699755</td>\n      <td>...</td>\n      <td>683.953836</td>\n      <td>685.669534</td>\n      <td>691.692053</td>\n      <td>680.197813</td>\n      <td>682.336329</td>\n      <td>656.270447</td>\n      <td>646.830144</td>\n      <td>642.457536</td>\n      <td>639.011110</td>\n      <td>638.482827</td>\n    </tr>\n    <tr>\n      <th>2</th>\n      <td>Nitrous oxide</td>\n      <td>434.624267</td>\n      <td>424.828286</td>\n      <td>424.348137</td>\n      <td>452.370543</td>\n      <td>437.560064</td>\n      <td>449.257545</td>\n      <td>460.856922</td>\n      <td>446.662739</td>\n      <td>446.989496</td>\n      <td>...</td>\n      <td>428.713767</td>\n      <td>439.932894</td>\n      <td>423.646181</td>\n      <td>422.461462</td>\n      <td>431.423771</td>\n      <td>421.855668</td>\n      <td>392.262993</td>\n      <td>439.175241</td>\n      <td>449.265174</td>\n      <td>443.821302</td>\n    </tr>\n    <tr>\n      <th>3</th>\n      <td>Fluorinated gases</td>\n      <td>99.665712</td>\n      <td>90.681299</td>\n      <td>95.277722</td>\n      <td>95.003732</td>\n      <td>98.976937</td>\n      <td>117.854321</td>\n      <td>129.007715</td>\n      <td>136.601354</td>\n      <td>153.009033</td>\n      <td>...</td>\n      <td>150.670267</td>\n      <td>162.422400</td>\n      <td>164.251425</td>\n      <td>160.211084</td>\n      <td>169.797165</td>\n      <td>177.112953</td>\n      <td>174.013124</td>\n      <td>173.888957</td>\n      <td>179.021155</td>\n      <td>181.635104</td>\n    </tr>\n    <tr>\n      <th>4</th>\n      <td>Total</td>\n      <td>6437.000131</td>\n      <td>6373.259703</td>\n      <td>6480.086588</td>\n      <td>6596.774554</td>\n      <td>6685.730471</td>\n      <td>6771.015640</td>\n      <td>6974.407044</td>\n      <td>7028.804635</td>\n      <td>7077.750264</td>\n      <td>...</td>\n      <td>7314.388891</td>\n      <td>7416.454469</td>\n      <td>7210.129302</td>\n      <td>6753.906086</td>\n      <td>6981.613045</td>\n      <td>6820.533469</td>\n      <td>6580.674816</td>\n      <td>6769.551029</td>\n      <td>6829.016655</td>\n      <td>6676.371427</td>\n    </tr>\n  </tbody>\n</table>\n<p>5 rows × 27 columns</p>\n</div>"
     },
     "metadata": {},
     "execution_count": 52
    }
   ],
   "source": [
    "trimEmissionColumnDates()\n",
    "emissionDfs[1]"
   ]
  },
  {
   "cell_type": "code",
   "execution_count": null,
   "metadata": {},
   "outputs": [],
   "source": []
  }
 ]
}