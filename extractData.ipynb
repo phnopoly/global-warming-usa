{
 "metadata": {
  "language_info": {
   "codemirror_mode": {
    "name": "ipython",
    "version": 3
   },
   "file_extension": ".py",
   "mimetype": "text/x-python",
   "name": "python",
   "nbconvert_exporter": "python",
   "pygments_lexer": "ipython3",
   "version": "3.8.6-final"
  },
  "orig_nbformat": 2,
  "kernelspec": {
   "name": "Python 3.8.6 64-bit",
   "display_name": "Python 3.8.6 64-bit",
   "metadata": {
    "interpreter": {
     "hash": "61376a8c859ea19f3c23e4a04a8b5fd872fbbfd5bf884388c44f67684c0f5519"
    }
   }
  }
 },
 "nbformat": 4,
 "nbformat_minor": 2,
 "cells": [
  {
   "cell_type": "code",
   "execution_count": 62,
   "metadata": {},
   "outputs": [],
   "source": [
    "# Import all needed libraries\n",
    "import pandas as pd\n",
    "import altair as alt\n",
    "import csv\n",
    "from os import listdir\n",
    "from os.path import isfile, join\n",
    "from pprint import pprint"
   ]
  },
  {
   "cell_type": "code",
   "execution_count": 75,
   "metadata": {},
   "outputs": [],
   "source": [
    "# Define all methods and global variables\n",
    "\n",
    "# Root directory of the project repo\n",
    "ROOT_DIR = os.path.abspath(os.curdir)\n",
    "\n",
    "# Get all csv files from root directory \n",
    "def readCSVFiles():\n",
    "    files = []\n",
    "    for file in listdir(ROOT_DIR):\n",
    "        if isfile(join(FILE_PATH, file)) and file[-4:] == \".csv\":\n",
    "            files.append(file)\n",
    "    return files\n",
    "\n",
    "# Display all raw filenames\n",
    "def printFiles(csvFiles):\n",
    "    print(str(len(csvFiles)) + \" csv files detected:\")\n",
    "    pprint(*csvFiles)\n",
    "    #print(*csvFiles, sep=)\n",
    "\n",
    "# Given list of csvFiles, return a list of dataframes\n",
    "def createDataFrames(csvFiles):\n",
    "    dfs = []\n",
    "    for fileName in csvFiles:\n",
    "        dfs.append(pd.read_csv(fileName))\n",
    "    return dfs\n"
   ]
  },
  {
   "cell_type": "code",
   "execution_count": 76,
   "metadata": {},
   "outputs": [
    {
     "output_type": "stream",
     "name": "stdout",
     "text": [
      "8 csv files detected:\n"
     ]
    },
    {
     "output_type": "error",
     "ename": "TypeError",
     "evalue": "sep must be None or a string, not int",
     "traceback": [
      "\u001b[1;31m---------------------------------------------------------------------------\u001b[0m",
      "\u001b[1;31mTypeError\u001b[0m                                 Traceback (most recent call last)",
      "\u001b[1;32m<ipython-input-76-62515ef13d8d>\u001b[0m in \u001b[0;36m<module>\u001b[1;34m\u001b[0m\n\u001b[0;32m      1\u001b[0m \u001b[0mcsvFiles\u001b[0m \u001b[1;33m=\u001b[0m \u001b[0mreadCSVFiles\u001b[0m\u001b[1;33m(\u001b[0m\u001b[1;33m)\u001b[0m\u001b[1;33m\u001b[0m\u001b[1;33m\u001b[0m\u001b[0m\n\u001b[1;32m----> 2\u001b[1;33m \u001b[0mprintFiles\u001b[0m\u001b[1;33m(\u001b[0m\u001b[0mcsvFiles\u001b[0m\u001b[1;33m)\u001b[0m\u001b[1;33m\u001b[0m\u001b[1;33m\u001b[0m\u001b[0m\n\u001b[0m\u001b[0;32m      3\u001b[0m \u001b[1;33m\u001b[0m\u001b[0m\n\u001b[0;32m      4\u001b[0m \u001b[0mdfs\u001b[0m \u001b[1;33m=\u001b[0m \u001b[0mcreateDataFrames\u001b[0m\u001b[1;33m(\u001b[0m\u001b[0mcsvFiles\u001b[0m\u001b[1;33m)\u001b[0m\u001b[1;33m\u001b[0m\u001b[1;33m\u001b[0m\u001b[0m\n",
      "\u001b[1;32m<ipython-input-75-6210faf5bcc0>\u001b[0m in \u001b[0;36mprintFiles\u001b[1;34m(csvFiles)\u001b[0m\n\u001b[0;32m     15\u001b[0m \u001b[1;32mdef\u001b[0m \u001b[0mprintFiles\u001b[0m\u001b[1;33m(\u001b[0m\u001b[0mcsvFiles\u001b[0m\u001b[1;33m)\u001b[0m\u001b[1;33m:\u001b[0m\u001b[1;33m\u001b[0m\u001b[1;33m\u001b[0m\u001b[0m\n\u001b[0;32m     16\u001b[0m     \u001b[0mprint\u001b[0m\u001b[1;33m(\u001b[0m\u001b[0mstr\u001b[0m\u001b[1;33m(\u001b[0m\u001b[0mlen\u001b[0m\u001b[1;33m(\u001b[0m\u001b[0mcsvFiles\u001b[0m\u001b[1;33m)\u001b[0m\u001b[1;33m)\u001b[0m \u001b[1;33m+\u001b[0m \u001b[1;34m\" csv files detected:\"\u001b[0m\u001b[1;33m)\u001b[0m\u001b[1;33m\u001b[0m\u001b[1;33m\u001b[0m\u001b[0m\n\u001b[1;32m---> 17\u001b[1;33m     \u001b[0mprint\u001b[0m\u001b[1;33m(\u001b[0m\u001b[1;33m*\u001b[0m\u001b[0mcsvFiles\u001b[0m\u001b[1;33m,\u001b[0m \u001b[0msep\u001b[0m\u001b[1;33m=\u001b[0m\u001b[0mlen\u001b[0m\u001b[1;33m(\u001b[0m\u001b[0mcsvFiles\u001b[0m\u001b[1;33m)\u001b[0m\u001b[1;33m)\u001b[0m\u001b[1;33m\u001b[0m\u001b[1;33m\u001b[0m\u001b[0m\n\u001b[0m\u001b[0;32m     18\u001b[0m \u001b[1;33m\u001b[0m\u001b[0m\n\u001b[0;32m     19\u001b[0m \u001b[1;31m# Given list of csvFiles, return a list of dataframes\u001b[0m\u001b[1;33m\u001b[0m\u001b[1;33m\u001b[0m\u001b[1;33m\u001b[0m\u001b[0m\n",
      "\u001b[1;31mTypeError\u001b[0m: sep must be None or a string, not int"
     ]
    }
   ],
   "source": [
    "csvFiles = readCSVFiles()\n",
    "printFiles(csvFiles)\n",
    "\n",
    "dfs = createDataFrames(csvFiles)"
   ]
  },
  {
   "cell_type": "code",
   "execution_count": null,
   "metadata": {
    "tags": []
   },
   "outputs": [],
   "source": [
    "dfs[0]\n",
    "\n"
   ]
  }
 ]
}