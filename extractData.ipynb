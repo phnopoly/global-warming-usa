{
 "metadata": {
  "language_info": {
   "codemirror_mode": {
    "name": "ipython",
    "version": 3
   },
   "file_extension": ".py",
   "mimetype": "text/x-python",
   "name": "python",
   "nbconvert_exporter": "python",
   "pygments_lexer": "ipython3",
   "version": "3.8.6-final"
  },
  "orig_nbformat": 2,
  "kernelspec": {
   "name": "Python 3.8.6 64-bit",
   "display_name": "Python 3.8.6 64-bit",
   "metadata": {
    "interpreter": {
     "hash": "61376a8c859ea19f3c23e4a04a8b5fd872fbbfd5bf884388c44f67684c0f5519"
    }
   }
  }
 },
 "nbformat": 4,
 "nbformat_minor": 2,
 "cells": [
  {
   "cell_type": "code",
   "execution_count": 113,
   "metadata": {},
   "outputs": [],
   "source": [
    "# Import all needed libraries\n",
    "\n",
    "import pandas as pd\n",
    "import altair as alt\n",
    "import csv\n",
    "from os import listdir, walk\n",
    "from os.path import isfile, join"
   ]
  },
  {
   "cell_type": "code",
   "execution_count": 120,
   "metadata": {},
   "outputs": [
    {
     "output_type": "stream",
     "name": "stdout",
     "text": [
      "c:\\Users\\zsaordenio\\Documents\\Python\\global-warming-usa\\data\n"
     ]
    }
   ],
   "source": [
    "# Functions to extract data from csv\n",
    "\n",
    "# Root directory of the project repo\n",
    "ROOT_DIR = os.path.abspath(os.curdir) \n",
    "DATA_DIR = ROOT_DIR + \"\\\\data\"\n",
    "print(DATA_DIR)\n",
    "\n",
    "# Get all directories\n",
    "def readDirs():\n",
    "    directories = []\n",
    "    for (dirpath, dirnames, filenames) in walk(DATA_DIR):\n",
    "        directories.extend(dirnames)\n",
    "        break\n",
    "    return directories\n",
    "\n",
    "# Get all csv files from root directory \n",
    "def readCSVFiles(subFolderPath):\n",
    "    files = []\n",
    "    localDir = DATA_DIR+ subFolderPath\n",
    "    for file in listdir(localDir):\n",
    "        if isfile(join(localDir, file)) and file[-4:] == \".csv\":\n",
    "            files.append(file)\n",
    "    return files\n",
    "\n",
    "# Display all raw filenames\n",
    "def displayFiles(subFolderPath, csvFiles):\n",
    "    string = \"\"\n",
    "    n = len(csvFiles)\n",
    "    string.append('\\n{}\\n{} csv files detected:'.format(subFolderPath, n))\n",
    "    for i in range(n):\n",
    "        string.append('  [{}] : {}'.format(i, csvFiles[i]))\n",
    "    return string\n",
    "\n",
    "# Given list of csvFiles, return a list of dataframes\n",
    "def createDataFrames(subFolderPath, csvFiles):\n",
    "    dfs = []\n",
    "    for fileName in csvFiles:\n",
    "        dfs.append(pd.read_csv(\"data/\" + subFolderPath + fileName))\n",
    "    return dfs\n",
    "\n",
    "def createMainList():\n",
    "    mainList = []\n",
    "    dirs = readDirs()\n",
    "    for i in range(len(dirs)):\n",
    "        csvFiles = readCSVFiles(\"\\\\\" + dirs[i])\n",
    "        print('[{}] : {}'.format(i, displayFiles(dirs[i], csvFiles)))\n",
    "        dfs = createDataFrames(dirs[i] + \"/\", csvFiles)\n",
    "        mainList.append(dfs)\n",
    "    return mainList"
   ]
  },
  {
   "cell_type": "code",
   "execution_count": 121,
   "metadata": {
    "tags": []
   },
   "outputs": [
    {
     "output_type": "stream",
     "name": "stdout",
     "text": [
      "\nclimateKnowledge\n0 csv files detected:\n[0] : None\n\nemission\n8 csv files detected:\n  [0] : emission_agriculture.csv\n  [1] : emission_all_gases.csv\n  [2] : emission_all_sectors.csv\n  [3] : emission_commercial.csv\n  [4] : emission_electricity_generation.csv\n  [5] : emission_industry.csv\n  [6] : emission_residential.csv\n  [7] : emission_transport.csv\n[1] : None\n\nepa\n3 csv files detected:\n  [0] : ghg-concentrations.csv\n  [1] : sea-level.csv\n  [2] : snow-cover.csv\n[2] : None\n"
     ]
    }
   ],
   "source": [
    "# emissionCsvFiles = readCSVFiles(\"\\\\emission\")\n",
    "# printFiles(emissionCsvFiles)\n",
    "# emissionDfs = createDataFrames(\"emission/\", emissionCsvFiles)\n",
    "\n",
    "ml = createMainList()\n",
    "#print(ml)\n"
   ]
  },
  {
   "cell_type": "code",
   "execution_count": 116,
   "metadata": {
    "tags": []
   },
   "outputs": [
    {
     "output_type": "execute_result",
     "data": {
      "text/plain": [
       "          Economic Sector         1990         1991         1992         1993  \\\n",
       "0          Transportation  1527.071188  1480.927212  1540.530936  1577.519112   \n",
       "1  Electricity generation  1875.593659  1871.622530  1886.593971  1962.354970   \n",
       "2                Industry  1628.676867  1602.045952  1633.075916  1602.408186   \n",
       "3             Agriculture   598.967218   589.682520   590.570246   618.614388   \n",
       "4              Commercial   428.668347   435.610013   431.178707   424.627494   \n",
       "5             Residential   344.701666   354.247606   360.821161   372.164956   \n",
       "6        U.S. territories    33.321186    39.123871    37.315650    39.085447   \n",
       "7                   Total  6437.000131  6373.259703  6480.086588  6596.774554   \n",
       "\n",
       "          1994         1995         1996         1997         1998  ...  \\\n",
       "0  1632.153745  1667.328361  1723.497937  1750.008339  1792.365801  ...   \n",
       "1  1987.151999  2003.872715  2076.854716  2143.022602  2229.562822  ...   \n",
       "2  1628.107251  1646.809850  1674.908854  1672.315953  1644.509941  ...   \n",
       "3   605.833117   618.137934   625.073485   613.575138   620.526432  ...   \n",
       "4   428.065622   427.284274   434.832768   427.624054   402.075852  ...   \n",
       "5   362.939297   367.158678   398.995438   380.422766   346.477147  ...   \n",
       "6    41.479440    40.423829    40.243846    41.835783    42.232269  ...   \n",
       "7  6685.730471  6771.015640  6974.407044  7028.804635  7077.750264  ...   \n",
       "\n",
       "          2006         2007         2008         2009         2010  \\\n",
       "0  1969.815220  1968.842071  1871.611936  1792.976080  1801.062036   \n",
       "1  2399.309653  2466.001703  2412.192680  2196.033477  2312.117767   \n",
       "2  1534.312656  1524.123650  1466.534105  1311.265849  1403.792368   \n",
       "3   626.300795   643.548154   631.857816   633.876228   642.105992   \n",
       "4   391.804259   406.424924   414.249140   417.831029   420.249722   \n",
       "5   333.941971   355.532814   364.165364   354.682780   355.722892   \n",
       "6    58.904337    51.981154    49.518260    47.240643    46.562267   \n",
       "7  7314.388891  7416.454469  7210.129302  6753.906086  6981.613045   \n",
       "\n",
       "          2011         2012         2013         2014         2015  \n",
       "0  1768.632996  1750.432127  1756.407187  1791.621093  1800.244091  \n",
       "1  2209.814594  2070.927498  2088.886182  2089.120514  1949.233643  \n",
       "2  1407.832690  1400.931977  1453.954571  1438.777852  1429.754293  \n",
       "3   623.287782   606.895764   645.168259   654.939751   655.989069  \n",
       "4   415.624495   395.755763   419.065286   429.352426   442.511516  \n",
       "5   349.317337   307.273218   357.995952   378.575143   352.002720  \n",
       "6    46.023576    48.458468    48.073592    46.629876    46.636094  \n",
       "7  6820.533469  6580.674816  6769.551029  6829.016655  6676.371427  \n",
       "\n",
       "[8 rows x 27 columns]"
      ],
      "text/html": "<div>\n<style scoped>\n    .dataframe tbody tr th:only-of-type {\n        vertical-align: middle;\n    }\n\n    .dataframe tbody tr th {\n        vertical-align: top;\n    }\n\n    .dataframe thead th {\n        text-align: right;\n    }\n</style>\n<table border=\"1\" class=\"dataframe\">\n  <thead>\n    <tr style=\"text-align: right;\">\n      <th></th>\n      <th>Economic Sector</th>\n      <th>1990</th>\n      <th>1991</th>\n      <th>1992</th>\n      <th>1993</th>\n      <th>1994</th>\n      <th>1995</th>\n      <th>1996</th>\n      <th>1997</th>\n      <th>1998</th>\n      <th>...</th>\n      <th>2006</th>\n      <th>2007</th>\n      <th>2008</th>\n      <th>2009</th>\n      <th>2010</th>\n      <th>2011</th>\n      <th>2012</th>\n      <th>2013</th>\n      <th>2014</th>\n      <th>2015</th>\n    </tr>\n  </thead>\n  <tbody>\n    <tr>\n      <th>0</th>\n      <td>Transportation</td>\n      <td>1527.071188</td>\n      <td>1480.927212</td>\n      <td>1540.530936</td>\n      <td>1577.519112</td>\n      <td>1632.153745</td>\n      <td>1667.328361</td>\n      <td>1723.497937</td>\n      <td>1750.008339</td>\n      <td>1792.365801</td>\n      <td>...</td>\n      <td>1969.815220</td>\n      <td>1968.842071</td>\n      <td>1871.611936</td>\n      <td>1792.976080</td>\n      <td>1801.062036</td>\n      <td>1768.632996</td>\n      <td>1750.432127</td>\n      <td>1756.407187</td>\n      <td>1791.621093</td>\n      <td>1800.244091</td>\n    </tr>\n    <tr>\n      <th>1</th>\n      <td>Electricity generation</td>\n      <td>1875.593659</td>\n      <td>1871.622530</td>\n      <td>1886.593971</td>\n      <td>1962.354970</td>\n      <td>1987.151999</td>\n      <td>2003.872715</td>\n      <td>2076.854716</td>\n      <td>2143.022602</td>\n      <td>2229.562822</td>\n      <td>...</td>\n      <td>2399.309653</td>\n      <td>2466.001703</td>\n      <td>2412.192680</td>\n      <td>2196.033477</td>\n      <td>2312.117767</td>\n      <td>2209.814594</td>\n      <td>2070.927498</td>\n      <td>2088.886182</td>\n      <td>2089.120514</td>\n      <td>1949.233643</td>\n    </tr>\n    <tr>\n      <th>2</th>\n      <td>Industry</td>\n      <td>1628.676867</td>\n      <td>1602.045952</td>\n      <td>1633.075916</td>\n      <td>1602.408186</td>\n      <td>1628.107251</td>\n      <td>1646.809850</td>\n      <td>1674.908854</td>\n      <td>1672.315953</td>\n      <td>1644.509941</td>\n      <td>...</td>\n      <td>1534.312656</td>\n      <td>1524.123650</td>\n      <td>1466.534105</td>\n      <td>1311.265849</td>\n      <td>1403.792368</td>\n      <td>1407.832690</td>\n      <td>1400.931977</td>\n      <td>1453.954571</td>\n      <td>1438.777852</td>\n      <td>1429.754293</td>\n    </tr>\n    <tr>\n      <th>3</th>\n      <td>Agriculture</td>\n      <td>598.967218</td>\n      <td>589.682520</td>\n      <td>590.570246</td>\n      <td>618.614388</td>\n      <td>605.833117</td>\n      <td>618.137934</td>\n      <td>625.073485</td>\n      <td>613.575138</td>\n      <td>620.526432</td>\n      <td>...</td>\n      <td>626.300795</td>\n      <td>643.548154</td>\n      <td>631.857816</td>\n      <td>633.876228</td>\n      <td>642.105992</td>\n      <td>623.287782</td>\n      <td>606.895764</td>\n      <td>645.168259</td>\n      <td>654.939751</td>\n      <td>655.989069</td>\n    </tr>\n    <tr>\n      <th>4</th>\n      <td>Commercial</td>\n      <td>428.668347</td>\n      <td>435.610013</td>\n      <td>431.178707</td>\n      <td>424.627494</td>\n      <td>428.065622</td>\n      <td>427.284274</td>\n      <td>434.832768</td>\n      <td>427.624054</td>\n      <td>402.075852</td>\n      <td>...</td>\n      <td>391.804259</td>\n      <td>406.424924</td>\n      <td>414.249140</td>\n      <td>417.831029</td>\n      <td>420.249722</td>\n      <td>415.624495</td>\n      <td>395.755763</td>\n      <td>419.065286</td>\n      <td>429.352426</td>\n      <td>442.511516</td>\n    </tr>\n    <tr>\n      <th>5</th>\n      <td>Residential</td>\n      <td>344.701666</td>\n      <td>354.247606</td>\n      <td>360.821161</td>\n      <td>372.164956</td>\n      <td>362.939297</td>\n      <td>367.158678</td>\n      <td>398.995438</td>\n      <td>380.422766</td>\n      <td>346.477147</td>\n      <td>...</td>\n      <td>333.941971</td>\n      <td>355.532814</td>\n      <td>364.165364</td>\n      <td>354.682780</td>\n      <td>355.722892</td>\n      <td>349.317337</td>\n      <td>307.273218</td>\n      <td>357.995952</td>\n      <td>378.575143</td>\n      <td>352.002720</td>\n    </tr>\n    <tr>\n      <th>6</th>\n      <td>U.S. territories</td>\n      <td>33.321186</td>\n      <td>39.123871</td>\n      <td>37.315650</td>\n      <td>39.085447</td>\n      <td>41.479440</td>\n      <td>40.423829</td>\n      <td>40.243846</td>\n      <td>41.835783</td>\n      <td>42.232269</td>\n      <td>...</td>\n      <td>58.904337</td>\n      <td>51.981154</td>\n      <td>49.518260</td>\n      <td>47.240643</td>\n      <td>46.562267</td>\n      <td>46.023576</td>\n      <td>48.458468</td>\n      <td>48.073592</td>\n      <td>46.629876</td>\n      <td>46.636094</td>\n    </tr>\n    <tr>\n      <th>7</th>\n      <td>Total</td>\n      <td>6437.000131</td>\n      <td>6373.259703</td>\n      <td>6480.086588</td>\n      <td>6596.774554</td>\n      <td>6685.730471</td>\n      <td>6771.015640</td>\n      <td>6974.407044</td>\n      <td>7028.804635</td>\n      <td>7077.750264</td>\n      <td>...</td>\n      <td>7314.388891</td>\n      <td>7416.454469</td>\n      <td>7210.129302</td>\n      <td>6753.906086</td>\n      <td>6981.613045</td>\n      <td>6820.533469</td>\n      <td>6580.674816</td>\n      <td>6769.551029</td>\n      <td>6829.016655</td>\n      <td>6676.371427</td>\n    </tr>\n  </tbody>\n</table>\n<p>8 rows × 27 columns</p>\n</div>"
     },
     "metadata": {},
     "execution_count": 116
    }
   ],
   "source": [
    "# Display dataframe before trim\n",
    "emissionDfs[2]\n"
   ]
  },
  {
   "cell_type": "code",
   "execution_count": 117,
   "metadata": {},
   "outputs": [
    {
     "output_type": "error",
     "ename": "KeyError",
     "evalue": "\"['2016' '2017' '2018'] not found in axis\"",
     "traceback": [
      "\u001b[1;31m---------------------------------------------------------------------------\u001b[0m",
      "\u001b[1;31mKeyError\u001b[0m                                  Traceback (most recent call last)",
      "\u001b[1;32m<ipython-input-117-56eb269fc3f3>\u001b[0m in \u001b[0;36m<module>\u001b[1;34m\u001b[0m\n\u001b[0;32m      3\u001b[0m         \u001b[0memissionDfs\u001b[0m\u001b[1;33m[\u001b[0m\u001b[0mi\u001b[0m\u001b[1;33m]\u001b[0m \u001b[1;33m=\u001b[0m \u001b[0memissionDfs\u001b[0m\u001b[1;33m[\u001b[0m\u001b[0mi\u001b[0m\u001b[1;33m]\u001b[0m\u001b[1;33m.\u001b[0m\u001b[0mdrop\u001b[0m\u001b[1;33m(\u001b[0m\u001b[1;33m[\u001b[0m\u001b[1;34m'2016'\u001b[0m\u001b[1;33m,\u001b[0m \u001b[1;34m'2017'\u001b[0m\u001b[1;33m,\u001b[0m \u001b[1;34m'2018'\u001b[0m\u001b[1;33m]\u001b[0m\u001b[1;33m,\u001b[0m \u001b[0maxis\u001b[0m\u001b[1;33m=\u001b[0m\u001b[1;36m1\u001b[0m\u001b[1;33m)\u001b[0m\u001b[1;33m\u001b[0m\u001b[1;33m\u001b[0m\u001b[0m\n\u001b[0;32m      4\u001b[0m \u001b[1;33m\u001b[0m\u001b[0m\n\u001b[1;32m----> 5\u001b[1;33m \u001b[0mtrimEmissionColumnDates\u001b[0m\u001b[1;33m(\u001b[0m\u001b[1;33m)\u001b[0m\u001b[1;33m\u001b[0m\u001b[1;33m\u001b[0m\u001b[0m\n\u001b[0m",
      "\u001b[1;32m<ipython-input-117-56eb269fc3f3>\u001b[0m in \u001b[0;36mtrimEmissionColumnDates\u001b[1;34m()\u001b[0m\n\u001b[0;32m      1\u001b[0m \u001b[1;32mdef\u001b[0m \u001b[0mtrimEmissionColumnDates\u001b[0m\u001b[1;33m(\u001b[0m\u001b[1;33m)\u001b[0m\u001b[1;33m:\u001b[0m\u001b[1;33m\u001b[0m\u001b[1;33m\u001b[0m\u001b[0m\n\u001b[0;32m      2\u001b[0m     \u001b[1;32mfor\u001b[0m \u001b[0mi\u001b[0m \u001b[1;32min\u001b[0m \u001b[0mrange\u001b[0m\u001b[1;33m(\u001b[0m\u001b[0mlen\u001b[0m\u001b[1;33m(\u001b[0m\u001b[0memissionDfs\u001b[0m\u001b[1;33m)\u001b[0m\u001b[1;33m)\u001b[0m\u001b[1;33m:\u001b[0m\u001b[1;33m\u001b[0m\u001b[1;33m\u001b[0m\u001b[0m\n\u001b[1;32m----> 3\u001b[1;33m         \u001b[0memissionDfs\u001b[0m\u001b[1;33m[\u001b[0m\u001b[0mi\u001b[0m\u001b[1;33m]\u001b[0m \u001b[1;33m=\u001b[0m \u001b[0memissionDfs\u001b[0m\u001b[1;33m[\u001b[0m\u001b[0mi\u001b[0m\u001b[1;33m]\u001b[0m\u001b[1;33m.\u001b[0m\u001b[0mdrop\u001b[0m\u001b[1;33m(\u001b[0m\u001b[1;33m[\u001b[0m\u001b[1;34m'2016'\u001b[0m\u001b[1;33m,\u001b[0m \u001b[1;34m'2017'\u001b[0m\u001b[1;33m,\u001b[0m \u001b[1;34m'2018'\u001b[0m\u001b[1;33m]\u001b[0m\u001b[1;33m,\u001b[0m \u001b[0maxis\u001b[0m\u001b[1;33m=\u001b[0m\u001b[1;36m1\u001b[0m\u001b[1;33m)\u001b[0m\u001b[1;33m\u001b[0m\u001b[1;33m\u001b[0m\u001b[0m\n\u001b[0m\u001b[0;32m      4\u001b[0m \u001b[1;33m\u001b[0m\u001b[0m\n\u001b[0;32m      5\u001b[0m \u001b[0mtrimEmissionColumnDates\u001b[0m\u001b[1;33m(\u001b[0m\u001b[1;33m)\u001b[0m\u001b[1;33m\u001b[0m\u001b[1;33m\u001b[0m\u001b[0m\n",
      "\u001b[1;32m~\\AppData\\Local\\Packages\\PythonSoftwareFoundation.Python.3.8_qbz5n2kfra8p0\\LocalCache\\local-packages\\Python38\\site-packages\\pandas\\core\\frame.py\u001b[0m in \u001b[0;36mdrop\u001b[1;34m(self, labels, axis, index, columns, level, inplace, errors)\u001b[0m\n\u001b[0;32m   4160\u001b[0m                 \u001b[0mweight\u001b[0m  \u001b[1;36m1.0\u001b[0m     \u001b[1;36m0.8\u001b[0m\u001b[1;33m\u001b[0m\u001b[1;33m\u001b[0m\u001b[0m\n\u001b[0;32m   4161\u001b[0m         \"\"\"\n\u001b[1;32m-> 4162\u001b[1;33m         return super().drop(\n\u001b[0m\u001b[0;32m   4163\u001b[0m             \u001b[0mlabels\u001b[0m\u001b[1;33m=\u001b[0m\u001b[0mlabels\u001b[0m\u001b[1;33m,\u001b[0m\u001b[1;33m\u001b[0m\u001b[1;33m\u001b[0m\u001b[0m\n\u001b[0;32m   4164\u001b[0m             \u001b[0maxis\u001b[0m\u001b[1;33m=\u001b[0m\u001b[0maxis\u001b[0m\u001b[1;33m,\u001b[0m\u001b[1;33m\u001b[0m\u001b[1;33m\u001b[0m\u001b[0m\n",
      "\u001b[1;32m~\\AppData\\Local\\Packages\\PythonSoftwareFoundation.Python.3.8_qbz5n2kfra8p0\\LocalCache\\local-packages\\Python38\\site-packages\\pandas\\core\\generic.py\u001b[0m in \u001b[0;36mdrop\u001b[1;34m(self, labels, axis, index, columns, level, inplace, errors)\u001b[0m\n\u001b[0;32m   3882\u001b[0m         \u001b[1;32mfor\u001b[0m \u001b[0maxis\u001b[0m\u001b[1;33m,\u001b[0m \u001b[0mlabels\u001b[0m \u001b[1;32min\u001b[0m \u001b[0maxes\u001b[0m\u001b[1;33m.\u001b[0m\u001b[0mitems\u001b[0m\u001b[1;33m(\u001b[0m\u001b[1;33m)\u001b[0m\u001b[1;33m:\u001b[0m\u001b[1;33m\u001b[0m\u001b[1;33m\u001b[0m\u001b[0m\n\u001b[0;32m   3883\u001b[0m             \u001b[1;32mif\u001b[0m \u001b[0mlabels\u001b[0m \u001b[1;32mis\u001b[0m \u001b[1;32mnot\u001b[0m \u001b[1;32mNone\u001b[0m\u001b[1;33m:\u001b[0m\u001b[1;33m\u001b[0m\u001b[1;33m\u001b[0m\u001b[0m\n\u001b[1;32m-> 3884\u001b[1;33m                 \u001b[0mobj\u001b[0m \u001b[1;33m=\u001b[0m \u001b[0mobj\u001b[0m\u001b[1;33m.\u001b[0m\u001b[0m_drop_axis\u001b[0m\u001b[1;33m(\u001b[0m\u001b[0mlabels\u001b[0m\u001b[1;33m,\u001b[0m \u001b[0maxis\u001b[0m\u001b[1;33m,\u001b[0m \u001b[0mlevel\u001b[0m\u001b[1;33m=\u001b[0m\u001b[0mlevel\u001b[0m\u001b[1;33m,\u001b[0m \u001b[0merrors\u001b[0m\u001b[1;33m=\u001b[0m\u001b[0merrors\u001b[0m\u001b[1;33m)\u001b[0m\u001b[1;33m\u001b[0m\u001b[1;33m\u001b[0m\u001b[0m\n\u001b[0m\u001b[0;32m   3885\u001b[0m \u001b[1;33m\u001b[0m\u001b[0m\n\u001b[0;32m   3886\u001b[0m         \u001b[1;32mif\u001b[0m \u001b[0minplace\u001b[0m\u001b[1;33m:\u001b[0m\u001b[1;33m\u001b[0m\u001b[1;33m\u001b[0m\u001b[0m\n",
      "\u001b[1;32m~\\AppData\\Local\\Packages\\PythonSoftwareFoundation.Python.3.8_qbz5n2kfra8p0\\LocalCache\\local-packages\\Python38\\site-packages\\pandas\\core\\generic.py\u001b[0m in \u001b[0;36m_drop_axis\u001b[1;34m(self, labels, axis, level, errors)\u001b[0m\n\u001b[0;32m   3916\u001b[0m                 \u001b[0mnew_axis\u001b[0m \u001b[1;33m=\u001b[0m \u001b[0maxis\u001b[0m\u001b[1;33m.\u001b[0m\u001b[0mdrop\u001b[0m\u001b[1;33m(\u001b[0m\u001b[0mlabels\u001b[0m\u001b[1;33m,\u001b[0m \u001b[0mlevel\u001b[0m\u001b[1;33m=\u001b[0m\u001b[0mlevel\u001b[0m\u001b[1;33m,\u001b[0m \u001b[0merrors\u001b[0m\u001b[1;33m=\u001b[0m\u001b[0merrors\u001b[0m\u001b[1;33m)\u001b[0m\u001b[1;33m\u001b[0m\u001b[1;33m\u001b[0m\u001b[0m\n\u001b[0;32m   3917\u001b[0m             \u001b[1;32melse\u001b[0m\u001b[1;33m:\u001b[0m\u001b[1;33m\u001b[0m\u001b[1;33m\u001b[0m\u001b[0m\n\u001b[1;32m-> 3918\u001b[1;33m                 \u001b[0mnew_axis\u001b[0m \u001b[1;33m=\u001b[0m \u001b[0maxis\u001b[0m\u001b[1;33m.\u001b[0m\u001b[0mdrop\u001b[0m\u001b[1;33m(\u001b[0m\u001b[0mlabels\u001b[0m\u001b[1;33m,\u001b[0m \u001b[0merrors\u001b[0m\u001b[1;33m=\u001b[0m\u001b[0merrors\u001b[0m\u001b[1;33m)\u001b[0m\u001b[1;33m\u001b[0m\u001b[1;33m\u001b[0m\u001b[0m\n\u001b[0m\u001b[0;32m   3919\u001b[0m             \u001b[0mresult\u001b[0m \u001b[1;33m=\u001b[0m \u001b[0mself\u001b[0m\u001b[1;33m.\u001b[0m\u001b[0mreindex\u001b[0m\u001b[1;33m(\u001b[0m\u001b[1;33m**\u001b[0m\u001b[1;33m{\u001b[0m\u001b[0maxis_name\u001b[0m\u001b[1;33m:\u001b[0m \u001b[0mnew_axis\u001b[0m\u001b[1;33m}\u001b[0m\u001b[1;33m)\u001b[0m\u001b[1;33m\u001b[0m\u001b[1;33m\u001b[0m\u001b[0m\n\u001b[0;32m   3920\u001b[0m \u001b[1;33m\u001b[0m\u001b[0m\n",
      "\u001b[1;32m~\\AppData\\Local\\Packages\\PythonSoftwareFoundation.Python.3.8_qbz5n2kfra8p0\\LocalCache\\local-packages\\Python38\\site-packages\\pandas\\core\\indexes\\base.py\u001b[0m in \u001b[0;36mdrop\u001b[1;34m(self, labels, errors)\u001b[0m\n\u001b[0;32m   5276\u001b[0m         \u001b[1;32mif\u001b[0m \u001b[0mmask\u001b[0m\u001b[1;33m.\u001b[0m\u001b[0many\u001b[0m\u001b[1;33m(\u001b[0m\u001b[1;33m)\u001b[0m\u001b[1;33m:\u001b[0m\u001b[1;33m\u001b[0m\u001b[1;33m\u001b[0m\u001b[0m\n\u001b[0;32m   5277\u001b[0m             \u001b[1;32mif\u001b[0m \u001b[0merrors\u001b[0m \u001b[1;33m!=\u001b[0m \u001b[1;34m\"ignore\"\u001b[0m\u001b[1;33m:\u001b[0m\u001b[1;33m\u001b[0m\u001b[1;33m\u001b[0m\u001b[0m\n\u001b[1;32m-> 5278\u001b[1;33m                 \u001b[1;32mraise\u001b[0m \u001b[0mKeyError\u001b[0m\u001b[1;33m(\u001b[0m\u001b[1;34mf\"{labels[mask]} not found in axis\"\u001b[0m\u001b[1;33m)\u001b[0m\u001b[1;33m\u001b[0m\u001b[1;33m\u001b[0m\u001b[0m\n\u001b[0m\u001b[0;32m   5279\u001b[0m             \u001b[0mindexer\u001b[0m \u001b[1;33m=\u001b[0m \u001b[0mindexer\u001b[0m\u001b[1;33m[\u001b[0m\u001b[1;33m~\u001b[0m\u001b[0mmask\u001b[0m\u001b[1;33m]\u001b[0m\u001b[1;33m\u001b[0m\u001b[1;33m\u001b[0m\u001b[0m\n\u001b[0;32m   5280\u001b[0m         \u001b[1;32mreturn\u001b[0m \u001b[0mself\u001b[0m\u001b[1;33m.\u001b[0m\u001b[0mdelete\u001b[0m\u001b[1;33m(\u001b[0m\u001b[0mindexer\u001b[0m\u001b[1;33m)\u001b[0m\u001b[1;33m\u001b[0m\u001b[1;33m\u001b[0m\u001b[0m\n",
      "\u001b[1;31mKeyError\u001b[0m: \"['2016' '2017' '2018'] not found in axis\""
     ]
    }
   ],
   "source": [
    "def trimEmissionColumnDates():\n",
    "    for i in range(len(emissionDfs)):\n",
    "        emissionDfs[i] = emissionDfs[i].drop(['2016', '2017', '2018'], axis=1)  \n",
    "\n",
    "trimEmissionColumnDates()"
   ]
  },
  {
   "cell_type": "code",
   "execution_count": null,
   "metadata": {},
   "outputs": [],
   "source": [
    "# Display dataframe after trim\n",
    "\n",
    "emissionDfs[1]"
   ]
  }
 ]
}