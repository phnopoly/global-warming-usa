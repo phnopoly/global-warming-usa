{
 "metadata": {
  "language_info": {
   "codemirror_mode": {
    "name": "ipython",
    "version": 3
   },
   "file_extension": ".py",
   "mimetype": "text/x-python",
   "name": "python",
   "nbconvert_exporter": "python",
   "pygments_lexer": "ipython3",
   "version": "3.8.6-final"
  },
  "orig_nbformat": 2,
  "kernelspec": {
   "name": "Python 3.8.6 64-bit",
   "display_name": "Python 3.8.6 64-bit",
   "metadata": {
    "interpreter": {
     "hash": "61376a8c859ea19f3c23e4a04a8b5fd872fbbfd5bf884388c44f67684c0f5519"
    }
   }
  }
 },
 "nbformat": 4,
 "nbformat_minor": 2,
 "cells": [
  {
   "cell_type": "code",
   "execution_count": 39,
   "metadata": {},
   "outputs": [],
   "source": [
    "# Import libraries\n",
    "import pandas as pd\n",
    "import altair as alt\n",
    "import csv\n",
    "\n",
    "from os import listdir\n",
    "from os.path import isfile, join"
   ]
  },
  {
   "cell_type": "code",
   "execution_count": 56,
   "metadata": {},
   "outputs": [
    {
     "output_type": "stream",
     "name": "stdout",
     "text": [
      "8 csv files detected:\nemission_agriculture.csv\nemission_all_gases.csv\nemission_all_sectors.csv\nemission_commercial.csv\nemission_electricity_generation.csv\nemission_industry.csv\nemission_residential.csv\nemission_transport.csv\n"
     ]
    }
   ],
   "source": [
    "# Get all .csv file from root directory and display results\n",
    "ROOT_DIR = os.path.abspath(os.curdir)\n",
    "\n",
    "files = []\n",
    "for file in listdir(ROOT_DIR):\n",
    "    if isfile(join(FILE_PATH, file)) and file[-4:] == \".csv\":\n",
    "        files.append(file)\n",
    "\n",
    "def getFiles():\n",
    "    print(str(len(files)) + \" csv files detected:\")\n",
    "    print(*files, sep='\\n')\n",
    "    \n",
    "getFiles()"
   ]
  },
  {
   "cell_type": "code",
   "execution_count": 58,
   "metadata": {
    "tags": []
   },
   "outputs": [
    {
     "output_type": "stream",
     "name": "stdout",
     "text": [
      "8 csv files detected:\nemission_agriculture.csv\nemission_all_gases.csv\nemission_all_sectors.csv\nemission_commercial.csv\nemission_electricity_generation.csv\nemission_industry.csv\nemission_residential.csv\nemission_transport.csv\n"
     ]
    },
    {
     "output_type": "execute_result",
     "data": {
      "text/plain": [
       "          Economic Sector         1990         1991         1992         1993  \\\n",
       "0          Transportation  1527.071188  1480.927212  1540.530936  1577.519112   \n",
       "1  Electricity generation  1875.593659  1871.622530  1886.593971  1962.354970   \n",
       "2                Industry  1628.676867  1602.045952  1633.075916  1602.408186   \n",
       "3             Agriculture   598.967218   589.682520   590.570246   618.614388   \n",
       "4              Commercial   428.668347   435.610013   431.178707   424.627494   \n",
       "5             Residential   344.701666   354.247606   360.821161   372.164956   \n",
       "6        U.S. territories    33.321186    39.123871    37.315650    39.085447   \n",
       "7                   Total  6437.000131  6373.259703  6480.086588  6596.774554   \n",
       "\n",
       "          1994         1995         1996         1997         1998  ...  \\\n",
       "0  1632.153745  1667.328361  1723.497937  1750.008339  1792.365801  ...   \n",
       "1  1987.151999  2003.872715  2076.854716  2143.022602  2229.562822  ...   \n",
       "2  1628.107251  1646.809850  1674.908854  1672.315953  1644.509941  ...   \n",
       "3   605.833117   618.137934   625.073485   613.575138   620.526432  ...   \n",
       "4   428.065622   427.284274   434.832768   427.624054   402.075852  ...   \n",
       "5   362.939297   367.158678   398.995438   380.422766   346.477147  ...   \n",
       "6    41.479440    40.423829    40.243846    41.835783    42.232269  ...   \n",
       "7  6685.730471  6771.015640  6974.407044  7028.804635  7077.750264  ...   \n",
       "\n",
       "          2009         2010         2011         2012         2013  \\\n",
       "0  1792.976080  1801.062036  1768.632996  1750.432127  1756.407187   \n",
       "1  2196.033477  2312.117767  2209.814594  2070.927498  2088.886182   \n",
       "2  1311.265849  1403.792368  1407.832690  1400.931977  1453.954571   \n",
       "3   633.876228   642.105992   623.287782   606.895764   645.168259   \n",
       "4   417.831029   420.249722   415.624495   395.755763   419.065286   \n",
       "5   354.682780   355.722892   349.317337   307.273218   357.995952   \n",
       "6    47.240643    46.562267    46.023576    48.458468    48.073592   \n",
       "7  6753.906086  6981.613045  6820.533469  6580.674816  6769.551029   \n",
       "\n",
       "          2014         2015         2016         2017         2018  \n",
       "0  1791.621093  1800.244091  1835.606604  1852.310850  1882.557612  \n",
       "1  2089.120514  1949.233643  1856.805928  1778.395519  1798.925112  \n",
       "2  1438.777852  1429.754293  1388.787803  1411.526695  1470.743037  \n",
       "3   654.939751   655.989069   640.980734   642.378814   658.556550  \n",
       "4   429.352426   442.511516   426.991129   426.763985   443.321738  \n",
       "5   378.575143   352.002720   328.277055   330.234728   375.919063  \n",
       "6    46.629876    46.636094    46.631184    46.624050    46.626504  \n",
       "7  6829.016655  6676.371427  6524.080438  6488.234640  6676.649617  \n",
       "\n",
       "[8 rows x 30 columns]"
      ],
      "text/html": "<div>\n<style scoped>\n    .dataframe tbody tr th:only-of-type {\n        vertical-align: middle;\n    }\n\n    .dataframe tbody tr th {\n        vertical-align: top;\n    }\n\n    .dataframe thead th {\n        text-align: right;\n    }\n</style>\n<table border=\"1\" class=\"dataframe\">\n  <thead>\n    <tr style=\"text-align: right;\">\n      <th></th>\n      <th>Economic Sector</th>\n      <th>1990</th>\n      <th>1991</th>\n      <th>1992</th>\n      <th>1993</th>\n      <th>1994</th>\n      <th>1995</th>\n      <th>1996</th>\n      <th>1997</th>\n      <th>1998</th>\n      <th>...</th>\n      <th>2009</th>\n      <th>2010</th>\n      <th>2011</th>\n      <th>2012</th>\n      <th>2013</th>\n      <th>2014</th>\n      <th>2015</th>\n      <th>2016</th>\n      <th>2017</th>\n      <th>2018</th>\n    </tr>\n  </thead>\n  <tbody>\n    <tr>\n      <th>0</th>\n      <td>Transportation</td>\n      <td>1527.071188</td>\n      <td>1480.927212</td>\n      <td>1540.530936</td>\n      <td>1577.519112</td>\n      <td>1632.153745</td>\n      <td>1667.328361</td>\n      <td>1723.497937</td>\n      <td>1750.008339</td>\n      <td>1792.365801</td>\n      <td>...</td>\n      <td>1792.976080</td>\n      <td>1801.062036</td>\n      <td>1768.632996</td>\n      <td>1750.432127</td>\n      <td>1756.407187</td>\n      <td>1791.621093</td>\n      <td>1800.244091</td>\n      <td>1835.606604</td>\n      <td>1852.310850</td>\n      <td>1882.557612</td>\n    </tr>\n    <tr>\n      <th>1</th>\n      <td>Electricity generation</td>\n      <td>1875.593659</td>\n      <td>1871.622530</td>\n      <td>1886.593971</td>\n      <td>1962.354970</td>\n      <td>1987.151999</td>\n      <td>2003.872715</td>\n      <td>2076.854716</td>\n      <td>2143.022602</td>\n      <td>2229.562822</td>\n      <td>...</td>\n      <td>2196.033477</td>\n      <td>2312.117767</td>\n      <td>2209.814594</td>\n      <td>2070.927498</td>\n      <td>2088.886182</td>\n      <td>2089.120514</td>\n      <td>1949.233643</td>\n      <td>1856.805928</td>\n      <td>1778.395519</td>\n      <td>1798.925112</td>\n    </tr>\n    <tr>\n      <th>2</th>\n      <td>Industry</td>\n      <td>1628.676867</td>\n      <td>1602.045952</td>\n      <td>1633.075916</td>\n      <td>1602.408186</td>\n      <td>1628.107251</td>\n      <td>1646.809850</td>\n      <td>1674.908854</td>\n      <td>1672.315953</td>\n      <td>1644.509941</td>\n      <td>...</td>\n      <td>1311.265849</td>\n      <td>1403.792368</td>\n      <td>1407.832690</td>\n      <td>1400.931977</td>\n      <td>1453.954571</td>\n      <td>1438.777852</td>\n      <td>1429.754293</td>\n      <td>1388.787803</td>\n      <td>1411.526695</td>\n      <td>1470.743037</td>\n    </tr>\n    <tr>\n      <th>3</th>\n      <td>Agriculture</td>\n      <td>598.967218</td>\n      <td>589.682520</td>\n      <td>590.570246</td>\n      <td>618.614388</td>\n      <td>605.833117</td>\n      <td>618.137934</td>\n      <td>625.073485</td>\n      <td>613.575138</td>\n      <td>620.526432</td>\n      <td>...</td>\n      <td>633.876228</td>\n      <td>642.105992</td>\n      <td>623.287782</td>\n      <td>606.895764</td>\n      <td>645.168259</td>\n      <td>654.939751</td>\n      <td>655.989069</td>\n      <td>640.980734</td>\n      <td>642.378814</td>\n      <td>658.556550</td>\n    </tr>\n    <tr>\n      <th>4</th>\n      <td>Commercial</td>\n      <td>428.668347</td>\n      <td>435.610013</td>\n      <td>431.178707</td>\n      <td>424.627494</td>\n      <td>428.065622</td>\n      <td>427.284274</td>\n      <td>434.832768</td>\n      <td>427.624054</td>\n      <td>402.075852</td>\n      <td>...</td>\n      <td>417.831029</td>\n      <td>420.249722</td>\n      <td>415.624495</td>\n      <td>395.755763</td>\n      <td>419.065286</td>\n      <td>429.352426</td>\n      <td>442.511516</td>\n      <td>426.991129</td>\n      <td>426.763985</td>\n      <td>443.321738</td>\n    </tr>\n    <tr>\n      <th>5</th>\n      <td>Residential</td>\n      <td>344.701666</td>\n      <td>354.247606</td>\n      <td>360.821161</td>\n      <td>372.164956</td>\n      <td>362.939297</td>\n      <td>367.158678</td>\n      <td>398.995438</td>\n      <td>380.422766</td>\n      <td>346.477147</td>\n      <td>...</td>\n      <td>354.682780</td>\n      <td>355.722892</td>\n      <td>349.317337</td>\n      <td>307.273218</td>\n      <td>357.995952</td>\n      <td>378.575143</td>\n      <td>352.002720</td>\n      <td>328.277055</td>\n      <td>330.234728</td>\n      <td>375.919063</td>\n    </tr>\n    <tr>\n      <th>6</th>\n      <td>U.S. territories</td>\n      <td>33.321186</td>\n      <td>39.123871</td>\n      <td>37.315650</td>\n      <td>39.085447</td>\n      <td>41.479440</td>\n      <td>40.423829</td>\n      <td>40.243846</td>\n      <td>41.835783</td>\n      <td>42.232269</td>\n      <td>...</td>\n      <td>47.240643</td>\n      <td>46.562267</td>\n      <td>46.023576</td>\n      <td>48.458468</td>\n      <td>48.073592</td>\n      <td>46.629876</td>\n      <td>46.636094</td>\n      <td>46.631184</td>\n      <td>46.624050</td>\n      <td>46.626504</td>\n    </tr>\n    <tr>\n      <th>7</th>\n      <td>Total</td>\n      <td>6437.000131</td>\n      <td>6373.259703</td>\n      <td>6480.086588</td>\n      <td>6596.774554</td>\n      <td>6685.730471</td>\n      <td>6771.015640</td>\n      <td>6974.407044</td>\n      <td>7028.804635</td>\n      <td>7077.750264</td>\n      <td>...</td>\n      <td>6753.906086</td>\n      <td>6981.613045</td>\n      <td>6820.533469</td>\n      <td>6580.674816</td>\n      <td>6769.551029</td>\n      <td>6829.016655</td>\n      <td>6676.371427</td>\n      <td>6524.080438</td>\n      <td>6488.234640</td>\n      <td>6676.649617</td>\n    </tr>\n  </tbody>\n</table>\n<p>8 rows × 30 columns</p>\n</div>"
     },
     "metadata": {},
     "execution_count": 58
    }
   ],
   "source": [
    "# Read each file, convert them into a panda's dataframe, and store it in a list\n",
    "dfs = []\n",
    "for fileName in files:\n",
    "    df = pd.read_csv(fileName)\n",
    "    dfs.append(df)\n",
    "\n",
    "getFiles()\n",
    "dfs[0]\n",
    "dfs[1]\n",
    "dfs[2]\n"
   ]
  },
  {
   "cell_type": "code",
   "execution_count": null,
   "metadata": {},
   "outputs": [],
   "source": []
  }
 ]
}