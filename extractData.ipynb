{
 "metadata": {
  "language_info": {
   "codemirror_mode": {
    "name": "ipython",
    "version": 3
   },
   "file_extension": ".py",
   "mimetype": "text/x-python",
   "name": "python",
   "nbconvert_exporter": "python",
   "pygments_lexer": "ipython3",
   "version": "3.8.6-final"
  },
  "orig_nbformat": 2,
  "kernelspec": {
   "name": "python3",
   "display_name": "Python 3.8.6 64-bit",
   "metadata": {
    "interpreter": {
     "hash": "61376a8c859ea19f3c23e4a04a8b5fd872fbbfd5bf884388c44f67684c0f5519"
    }
   }
  }
 },
 "nbformat": 4,
 "nbformat_minor": 2,
 "cells": [
  {
   "cell_type": "code",
   "execution_count": null,
   "metadata": {},
   "outputs": [],
   "source": [
    "# Import libraries\n",
    "\n",
    "import pandas as pd\n",
    "import platform as pt\n",
    "from os import listdir, walk\n",
    "from os.path import isfile, join"
   ]
  },
  {
   "cell_type": "code",
   "execution_count": null,
   "metadata": {},
   "outputs": [],
   "source": [
    "# Helper functions to extract data from csv\n",
    "\n",
    "# Root directory of the project repo\n",
    "PLATFORM = pt.system()\n",
    "ROOT_DIR = os.path.abspath(os.curdir) \n",
    "DATA_STR = \"\\\\data\" if (PLATFORM == \"Windows\") else \"/data\"\n",
    "SLASH    = \"\\\\\" if (PLATFORM == \"Windows\") else \"/\"\n",
    "DATA_DIR = ROOT_DIR + DATA_STR\n",
    "\n",
    "# Get all directories\n",
    "def readDirs():\n",
    "    dirs = []\n",
    "    for (dirpath, dirnames, filenames) in walk(DATA_DIR):\n",
    "        dirs += dirnames\n",
    "        break\n",
    "    return sorted(dirs, key=str.lower)\n",
    "\n",
    "# Get all csv files from root directory \n",
    "def readCSVFiles(subFolderPath):\n",
    "    files = []\n",
    "    localDir = DATA_DIR + subFolderPath\n",
    "    csvFiles = listdir(localDir)\n",
    "    for file in sorted(csvFiles, key = str.lower):\n",
    "        if isfile(join(localDir, file)):\n",
    "            files.append(file)\n",
    "    return files\n",
    "\n",
    "# Get string format of all raw filenames - pretty format\n",
    "def displayFiles(subFolderPath, csvFiles):\n",
    "    string = \"\"\n",
    "    n = len(csvFiles)\n",
    "    string += ('{} csv files detected for <{}> directory:\\n'.format(n, subFolderPath))\n",
    "    for i in range(n):\n",
    "        string += ('  [{}] : {}\\n'.format(i, csvFiles[i]))\n",
    "    return string\n",
    "\n",
    "# Given list of csvFiles, return a list of dataframes\n",
    "def createDataFrames(subFolderPath, csvFiles):\n",
    "    dfs = []\n",
    "    for fileName in csvFiles:\n",
    "        dfs.append(pd.read_csv(\"data/\" + subFolderPath + fileName))\n",
    "    return dfs\n"
   ]
  },
  {
   "cell_type": "code",
   "execution_count": null,
   "metadata": {
    "tags": []
   },
   "outputs": [],
   "source": [
    "# Master function to store 2d reference of all dataframes\n",
    "def createMainGrid():\n",
    "    ml = []\n",
    "    dirs = readDirs()\n",
    "    for i in range(len(dirs)):\n",
    "        csvFiles = readCSVFiles(SLASH + dirs[i])\n",
    "        dfs = createDataFrames(dirs[i] + \"/\", csvFiles)\n",
    "        ml.append(dfs)\n",
    "    return ml\n",
    "\n",
    "# Master function to view all dataframe mappings\n",
    "def viewMapping():\n",
    "    dirs = readDirs()\n",
    "    for i in range(len(dirs)):\n",
    "        csvFiles = readCSVFiles(SLASH + dirs[i])\n",
    "        print('[{}] : {}'.format(i, displayFiles(dirs[i], csvFiles)))\n",
    "\n",
    "MAIN_GRID = createMainGrid()\n",
    "viewMapping()"
   ]
  },
  {
   "cell_type": "code",
   "execution_count": null,
   "metadata": {},
   "outputs": [],
   "source": [
    "# Display dataframe after trim\n",
    "\n",
    "# MAIN_GRID[0][1]"
   ]
  }
 ]
}