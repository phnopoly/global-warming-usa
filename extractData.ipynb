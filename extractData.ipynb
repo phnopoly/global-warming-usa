{
 "metadata": {
  "language_info": {
   "codemirror_mode": {
    "name": "ipython",
    "version": 3
   },
   "file_extension": ".py",
   "mimetype": "text/x-python",
   "name": "python",
   "nbconvert_exporter": "python",
   "pygments_lexer": "ipython3",
   "version": "3.8.6-final"
  },
  "orig_nbformat": 2,
  "kernelspec": {
   "name": "Python 3.8.6 64-bit",
   "display_name": "Python 3.8.6 64-bit",
   "metadata": {
    "interpreter": {
     "hash": "61376a8c859ea19f3c23e4a04a8b5fd872fbbfd5bf884388c44f67684c0f5519"
    }
   }
  }
 },
 "nbformat": 4,
 "nbformat_minor": 2,
 "cells": [
  {
   "cell_type": "code",
   "execution_count": 123,
   "metadata": {},
   "outputs": [],
   "source": [
    "# Import all needed libraries\n",
    "import pandas as pd\n",
    "import altair as alt\n",
    "import csv\n",
    "from os import listdir\n",
    "from os.path import isfile, join"
   ]
  },
  {
   "cell_type": "code",
   "execution_count": 124,
   "metadata": {},
   "outputs": [
    {
     "output_type": "stream",
     "name": "stdout",
     "text": [
      "c:\\Users\\zsaordenio\\Documents\\Python\\global-warming-usa\\data\n"
     ]
    }
   ],
   "source": [
    "# Define all methods and global variables\n",
    "\n",
    "# Root directory of the project repo\n",
    "ROOT_DIR = os.path.abspath(os.curdir) \n",
    "DATA_DIR = ROOT_DIR + \"\\\\data\"\n",
    "print(DATA_DIR)\n",
    "# Get all csv files from root directory \n",
    "def readCSVFiles():\n",
    "    files = []\n",
    "    for file in listdir(DATA_DIR):\n",
    "        if isfile(join(DATA_DIR, file)) and file[-4:] == \".csv\":\n",
    "            files.append(file)\n",
    "    return files\n",
    "\n",
    "# Display all raw filenames\n",
    "def printFiles(csvFiles):\n",
    "    n = len(csvFiles)\n",
    "    print(str(n) + \" csv files detected:\\n\")\n",
    "    for i in range(n):\n",
    "        print('  {} : {}'.format(i, csvFiles[i]))\n",
    "\n",
    "# Given list of csvFiles, return a list of dataframes\n",
    "def createDataFrames(csvFiles):\n",
    "    dfs = []\n",
    "    for fileName in csvFiles:\n",
    "        dfs.append(pd.read_csv(\"data/\" + fileName))\n",
    "    return dfs\n"
   ]
  },
  {
   "cell_type": "code",
   "execution_count": 125,
   "metadata": {},
   "outputs": [
    {
     "output_type": "stream",
     "name": "stdout",
     "text": [
      "8 csv files detected:\n\n  0 : emission_agriculture.csv\n  1 : emission_all_gases.csv\n  2 : emission_all_sectors.csv\n  3 : emission_commercial.csv\n  4 : emission_electricity_generation.csv\n  5 : emission_industry.csv\n  6 : emission_residential.csv\n  7 : emission_transport.csv\n"
     ]
    }
   ],
   "source": [
    "csvFiles = readCSVFiles()\n",
    "printFiles(csvFiles)\n",
    "\n",
    "dfs = createDataFrames(csvFiles)"
   ]
  },
  {
   "cell_type": "code",
   "execution_count": 126,
   "metadata": {
    "tags": []
   },
   "outputs": [
    {
     "output_type": "execute_result",
     "data": {
      "text/plain": [
       "                 Gas         1990         1991         1992         1993  \\\n",
       "0     Carbon dioxide  5128.300617  5078.889576  5182.706720  5283.437595   \n",
       "1            Methane   774.409534   778.860543   777.754009   765.962683   \n",
       "2      Nitrous oxide   434.624267   424.828286   424.348137   452.370543   \n",
       "3  Fluorinated gases    99.665712    90.681299    95.277722    95.003732   \n",
       "4              Total  6437.000131  6373.259703  6480.086588  6596.774554   \n",
       "\n",
       "          1994         1995         1996         1997         1998  ...  \\\n",
       "0  5377.032708  5438.905704  5626.911901  5703.706968  5751.051980  ...   \n",
       "1   772.160762   764.998071   757.630506   741.833574   726.699755  ...   \n",
       "2   437.560064   449.257545   460.856922   446.662739   446.989496  ...   \n",
       "3    98.976937   117.854321   129.007715   136.601354   153.009033  ...   \n",
       "4  6685.730471  6771.015640  6974.407044  7028.804635  7077.750264  ...   \n",
       "\n",
       "          2009         2010         2011         2012         2013  \\\n",
       "0  5491.035727  5698.055779  5565.294401  5367.568555  5514.029294   \n",
       "1   680.197813   682.336329   656.270447   646.830144   642.457536   \n",
       "2   422.461462   431.423771   421.855668   392.262993   439.175241   \n",
       "3   160.211084   169.797165   177.112953   174.013124   173.888957   \n",
       "4  6753.906086  6981.613045  6820.533469  6580.674816  6769.551029   \n",
       "\n",
       "          2014         2015         2016         2017         2018  \n",
       "0  5561.719216  5412.432194  5292.267561  5253.606130  5424.881502  \n",
       "1   639.011110   638.482827   624.244787   630.304468   634.457127  \n",
       "2   449.265174   443.821302   426.067401   421.258935   434.528555  \n",
       "3   179.021155   181.635104   181.500688   183.065108   182.782432  \n",
       "4  6829.016655  6676.371427  6524.080438  6488.234640  6676.649617  \n",
       "\n",
       "[5 rows x 30 columns]"
      ],
      "text/html": "<div>\n<style scoped>\n    .dataframe tbody tr th:only-of-type {\n        vertical-align: middle;\n    }\n\n    .dataframe tbody tr th {\n        vertical-align: top;\n    }\n\n    .dataframe thead th {\n        text-align: right;\n    }\n</style>\n<table border=\"1\" class=\"dataframe\">\n  <thead>\n    <tr style=\"text-align: right;\">\n      <th></th>\n      <th>Gas</th>\n      <th>1990</th>\n      <th>1991</th>\n      <th>1992</th>\n      <th>1993</th>\n      <th>1994</th>\n      <th>1995</th>\n      <th>1996</th>\n      <th>1997</th>\n      <th>1998</th>\n      <th>...</th>\n      <th>2009</th>\n      <th>2010</th>\n      <th>2011</th>\n      <th>2012</th>\n      <th>2013</th>\n      <th>2014</th>\n      <th>2015</th>\n      <th>2016</th>\n      <th>2017</th>\n      <th>2018</th>\n    </tr>\n  </thead>\n  <tbody>\n    <tr>\n      <th>0</th>\n      <td>Carbon dioxide</td>\n      <td>5128.300617</td>\n      <td>5078.889576</td>\n      <td>5182.706720</td>\n      <td>5283.437595</td>\n      <td>5377.032708</td>\n      <td>5438.905704</td>\n      <td>5626.911901</td>\n      <td>5703.706968</td>\n      <td>5751.051980</td>\n      <td>...</td>\n      <td>5491.035727</td>\n      <td>5698.055779</td>\n      <td>5565.294401</td>\n      <td>5367.568555</td>\n      <td>5514.029294</td>\n      <td>5561.719216</td>\n      <td>5412.432194</td>\n      <td>5292.267561</td>\n      <td>5253.606130</td>\n      <td>5424.881502</td>\n    </tr>\n    <tr>\n      <th>1</th>\n      <td>Methane</td>\n      <td>774.409534</td>\n      <td>778.860543</td>\n      <td>777.754009</td>\n      <td>765.962683</td>\n      <td>772.160762</td>\n      <td>764.998071</td>\n      <td>757.630506</td>\n      <td>741.833574</td>\n      <td>726.699755</td>\n      <td>...</td>\n      <td>680.197813</td>\n      <td>682.336329</td>\n      <td>656.270447</td>\n      <td>646.830144</td>\n      <td>642.457536</td>\n      <td>639.011110</td>\n      <td>638.482827</td>\n      <td>624.244787</td>\n      <td>630.304468</td>\n      <td>634.457127</td>\n    </tr>\n    <tr>\n      <th>2</th>\n      <td>Nitrous oxide</td>\n      <td>434.624267</td>\n      <td>424.828286</td>\n      <td>424.348137</td>\n      <td>452.370543</td>\n      <td>437.560064</td>\n      <td>449.257545</td>\n      <td>460.856922</td>\n      <td>446.662739</td>\n      <td>446.989496</td>\n      <td>...</td>\n      <td>422.461462</td>\n      <td>431.423771</td>\n      <td>421.855668</td>\n      <td>392.262993</td>\n      <td>439.175241</td>\n      <td>449.265174</td>\n      <td>443.821302</td>\n      <td>426.067401</td>\n      <td>421.258935</td>\n      <td>434.528555</td>\n    </tr>\n    <tr>\n      <th>3</th>\n      <td>Fluorinated gases</td>\n      <td>99.665712</td>\n      <td>90.681299</td>\n      <td>95.277722</td>\n      <td>95.003732</td>\n      <td>98.976937</td>\n      <td>117.854321</td>\n      <td>129.007715</td>\n      <td>136.601354</td>\n      <td>153.009033</td>\n      <td>...</td>\n      <td>160.211084</td>\n      <td>169.797165</td>\n      <td>177.112953</td>\n      <td>174.013124</td>\n      <td>173.888957</td>\n      <td>179.021155</td>\n      <td>181.635104</td>\n      <td>181.500688</td>\n      <td>183.065108</td>\n      <td>182.782432</td>\n    </tr>\n    <tr>\n      <th>4</th>\n      <td>Total</td>\n      <td>6437.000131</td>\n      <td>6373.259703</td>\n      <td>6480.086588</td>\n      <td>6596.774554</td>\n      <td>6685.730471</td>\n      <td>6771.015640</td>\n      <td>6974.407044</td>\n      <td>7028.804635</td>\n      <td>7077.750264</td>\n      <td>...</td>\n      <td>6753.906086</td>\n      <td>6981.613045</td>\n      <td>6820.533469</td>\n      <td>6580.674816</td>\n      <td>6769.551029</td>\n      <td>6829.016655</td>\n      <td>6676.371427</td>\n      <td>6524.080438</td>\n      <td>6488.234640</td>\n      <td>6676.649617</td>\n    </tr>\n  </tbody>\n</table>\n<p>5 rows × 30 columns</p>\n</div>"
     },
     "metadata": {},
     "execution_count": 126
    }
   ],
   "source": [
    "dfs[0]\n",
    "\n"
   ]
  }
 ]
}