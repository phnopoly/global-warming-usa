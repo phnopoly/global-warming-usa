{
 "metadata": {
  "language_info": {
   "codemirror_mode": {
    "name": "ipython",
    "version": 3
   },
   "file_extension": ".py",
   "mimetype": "text/x-python",
   "name": "python",
   "nbconvert_exporter": "python",
   "pygments_lexer": "ipython3",
   "version": "3.8.6-final"
  },
  "orig_nbformat": 2,
  "kernelspec": {
   "name": "python3",
   "display_name": "Python 3.8.6 64-bit",
   "metadata": {
    "interpreter": {
     "hash": "61376a8c859ea19f3c23e4a04a8b5fd872fbbfd5bf884388c44f67684c0f5519"
    }
   }
  }
 },
 "nbformat": 4,
 "nbformat_minor": 2,
 "cells": [
  {
   "cell_type": "code",
   "execution_count": null,
   "metadata": {},
   "outputs": [],
   "source": [
    "# Import libraries\n",
    "\n",
    "import altair as alt\n",
    "import seaborn as sns\n",
    "import matplotlib.pyplot as plt"
   ]
  },
  {
   "cell_type": "code",
   "execution_count": null,
   "metadata": {},
   "outputs": [],
   "source": [
    "%run analyzeData.ipynb"
   ]
  },
  {
   "cell_type": "code",
   "execution_count": null,
   "metadata": {},
   "outputs": [],
   "source": [
    "# Define constants\n",
    "\n",
    "PAD    = 25\n",
    "HEIGHT = 300\n",
    "WIDTH  = 500"
   ]
  },
  {
   "cell_type": "code",
   "execution_count": null,
   "metadata": {},
   "outputs": [],
   "source": [
    "# Temperature Anamodf_merged_final - OMIT\n",
    "df_merged_final\n",
    "\n",
    "alt.Chart(df_merged_final).mark_bar().encode(\n",
    "    x=alt.X('Year_Merge:O', scale=alt.Scale(zero=False)),\n",
    "    y=alt.Y('Anamoly_TmpCls:Q', scale=alt.Scale(zero=False, padding=1)),\n",
    "    color='MLHawai_CO2ppm:Q'\n",
    ").properties(\n",
    "    title=\"Temperature Anomaly\",\n",
    "    height=HEIGHT,\n",
    "    width=WIDTH\n",
    ").configure(\n",
    "    padding={\"left\": PAD, \"top\": PAD, \"right\": PAD, \"bottom\": PAD}\n",
    ")\n"
   ]
  },
  {
   "cell_type": "code",
   "execution_count": null,
   "metadata": {},
   "outputs": [],
   "source": [
    "# Mean annual Temperature + Anamoly for 57 years\n",
    "domain = [3,10]\n",
    "range_ = ['cyan', 'black']\n",
    "\n",
    "chart1 = alt.Chart(df_merged_final).mark_bar().encode(\n",
    "    x=alt.X('Year_Merge:O', title='Year'),\n",
    "    y=alt.Y('Tmp_Cls:Q', title='Temperature in Celcius'),\n",
    "    color=alt.Color('Tmp_Cls:Q', scale=alt.Scale(domain=domain, range=range_))\n",
    ").properties(\n",
    "    height=HEIGHT,\n",
    "    width=WIDTH\n",
    ")\n",
    "\n",
    "chart2 = alt.Chart(df_merged_final).encode(\n",
    "    x=alt.X('Year_Merge:O', title='Year'),\n",
    "    y=alt.Y('Anamoly_TmpCls:Q', title='Temperature in Celcius'),\n",
    ").properties(\n",
    "    height=HEIGHT,\n",
    "    width=WIDTH\n",
    ")\n",
    "\n",
    "alt.layer(chart1.mark_bar(),\n",
    "    chart2.mark_rule(color='orange'),\n",
    "    title='Mean Annual Temperature + Anomaly (USA)'\n",
    ").configure(\n",
    "    padding={\"left\": PAD, \"top\": PAD, \"right\": PAD, \"bottom\": PAD}\n",
    ")"
   ]
  },
  {
   "cell_type": "code",
   "execution_count": null,
   "metadata": {},
   "outputs": [],
   "source": [
    "# Precipitation Anamoly for 57 years - OMIT\n",
    "\n",
    "alt.Chart(df_merged_final).mark_bar().encode(\n",
    "    x=alt.X('Year_Merge:O', scale=alt.Scale(zero=False)),\n",
    "    y=alt.Y('Anamoly_RnfMM:Q', scale=alt.Scale(zero=False, padding=1)),\n",
    "    color='MLHawai_CO2ppm:Q'\n",
    ").properties(\n",
    "    height=HEIGHT,\n",
    "    width=WIDTH\n",
    ").configure(\n",
    "    padding={\"left\": PAD, \"top\": PAD, \"right\": PAD, \"bottom\": PAD}\n",
    ")"
   ]
  },
  {
   "cell_type": "code",
   "execution_count": null,
   "metadata": {},
   "outputs": [],
   "source": [
    "# Mean Annual Precipitation + Anamoly for 57 years\n",
    "\n",
    "chart1 = alt.Chart(df_merged_final).encode(\n",
    "    x=alt.X('Year_Merge:O', title='Year'),\n",
    "    y=alt.Y('Rnf_MM:Q', title='Rainfall in MM'),\n",
    "    color='Rnf_MM:Q'\n",
    ").properties(\n",
    "    height=HEIGHT,\n",
    "    width=WIDTH\n",
    ")\n",
    "\n",
    "chart2 = alt.Chart(df_merged_final).encode(\n",
    "    x=alt.X('Year_Merge:O', title='Year'),\n",
    "    y=alt.Y('Anamoly_RnfMM:Q', title='Rainfall in MM'),\n",
    ").properties(\n",
    "    height=HEIGHT,\n",
    "    width=WIDTH\n",
    ")\n",
    "\n",
    "alt.layer(chart1.mark_bar(),\n",
    "    chart2.mark_rule(color='orange'),\n",
    "    title='Mean Annual Precipitation + Anomaly (USA)'\n",
    ").configure(\n",
    "    padding={\"left\": PAD, \"top\": PAD, \"right\": PAD, \"bottom\": PAD}\n",
    ")"
   ]
  },
  {
   "cell_type": "code",
   "execution_count": null,
   "metadata": {},
   "outputs": [],
   "source": [
    "# Sea level rise Anamoly for 57 - OMIT\n",
    "df_merged_final\n",
    "\n",
    "alt.Chart(df_merged_final).mark_bar().encode(\n",
    "    x=alt.X('Year_Merge:O', scale=alt.Scale(zero=False)),\n",
    "    y=alt.Y('Anamoly_CSIRO_ASLinches:Q', scale=alt.Scale(zero=False, padding=1)),\n",
    "    color='MLHawai_CO2ppm:Q',\n",
    ").properties(\n",
    "    height=HEIGHT,\n",
    "    width=WIDTH\n",
    ").configure(\n",
    "    padding={\"left\": PAD, \"top\": PAD, \"right\": PAD, \"bottom\": PAD}\n",
    ")"
   ]
  },
  {
   "cell_type": "code",
   "execution_count": null,
   "metadata": {},
   "outputs": [],
   "source": [
    "# Sea level rise + Anamoly for 57 years\n",
    "\n",
    "chart1 = alt.Chart(df_merged_final).encode(\n",
    "    x=alt.X('Year_Merge:O', title='Year'),\n",
    "    y=alt.Y('CSIRO_ASLinches:Q', title='Adjusted Sea Level Rise in Inches'),\n",
    "    color='CSIRO_ASLinches:Q'\n",
    ").properties(\n",
    "    height=HEIGHT,\n",
    "    width=WIDTH\n",
    ")\n",
    "\n",
    "chart2 = alt.Chart(df_merged_final).encode(\n",
    "   x=alt.X('Year_Merge:O', title='Year'),\n",
    "    y=alt.Y('Anamoly_CSIRO_ASLinches:Q', title='Adjusted Sea Level Rise in Inches'),\n",
    ").properties(\n",
    "    height=HEIGHT,\n",
    "    width=WIDTH\n",
    ")\n",
    "\n",
    "alt.layer(chart1.mark_bar(),\n",
    "    chart2.mark_rule(color='orange'),\n",
    "    title='Annual Sea Level Rise + Anomaly (Global)'\n",
    ").configure(\n",
    "    padding={\"left\": PAD, \"top\": PAD, \"right\": PAD, \"bottom\": PAD}\n",
    ")"
   ]
  },
  {
   "cell_type": "code",
   "execution_count": null,
   "metadata": {},
   "outputs": [],
   "source": [
    "# Histogram #Normality Check - OMIT\n",
    "\n",
    "alt.Chart(df1_filter).mark_bar().encode(\n",
    "    x=alt.X( \"Rnf_MM:Q\", bin= True), #alt.BinParams(maxbins=100)\n",
    "    y='count(*):Q'\n",
    ").properties(\n",
    "    height=HEIGHT,\n",
    "    width=WIDTH\n",
    ").configure(\n",
    "    padding={\"left\": PAD, \"top\": PAD, \"right\": PAD, \"bottom\": PAD}\n",
    ")"
   ]
  },
  {
   "cell_type": "code",
   "execution_count": null,
   "metadata": {},
   "outputs": [],
   "source": [
    "# Scatter Plot - Distribution\n",
    "\n",
    "alt.Chart(df_merged_final).mark_circle().encode(\n",
    "    x=alt.X(alt.repeat(\"column\"), type='quantitative'),\n",
    "    y=alt.Y(alt.repeat(\"row\"), type='quantitative'),\n",
    "    color='Year_Merge:O'\n",
    ").properties(\n",
    "    width=100,\n",
    "    height=100\n",
    ").repeat(\n",
    "    column=['Rnf_MM','Tmp_Cls','CSIRO_ASLinches','MLHawai_CO2ppm'],\n",
    "    row=['MLHawai_CO2ppm','CSIRO_ASLinches','Tmp_Cls','Rnf_MM']\n",
    ").configure(\n",
    "    padding={\"left\": PAD, \"top\": PAD, \"right\": PAD, \"bottom\": PAD}\n",
    ")"
   ]
  },
  {
   "cell_type": "code",
   "execution_count": null,
   "metadata": {},
   "outputs": [],
   "source": [
    "# Scatter Plot - Distribution - OMIT\n",
    "\n",
    "alt.Chart(df_merged_final).mark_circle().encode(\n",
    "    x=alt.X('Year_Merge:O', scale=alt.Scale(zero=False)),\n",
    "    y=alt.Y('Tmp_Cls:Q', scale=alt.Scale(zero=False, padding=1)),\n",
    "    color='Anamoly_TmpCls:Q',\n",
    "    size='MLHawai_CO2ppm:Q'\n",
    ").properties(\n",
    "    height=HEIGHT,\n",
    "    width=WIDTH\n",
    ").configure(\n",
    "    padding={\"left\": PAD, \"top\": PAD, \"right\": PAD, \"bottom\": PAD}\n",
    ")"
   ]
  },
  {
   "cell_type": "code",
   "execution_count": null,
   "metadata": {},
   "outputs": [],
   "source": [
    "# Residuals scatterplot to check Homoscedasticity of the attributes - OMIT\n",
    "\n",
    "sns.residplot(x = \"MLHawai_CO2ppm\", \n",
    "              y = \"Tmp_Cls\", \n",
    "              data = df_merged_final) \n",
    "  \n",
    "plt.show() "
   ]
  },
  {
   "cell_type": "code",
   "execution_count": null,
   "metadata": {},
   "outputs": [],
   "source": [
    "#residuals scatterplot to check Homoscedasticity of the attributes. - OMIT\n",
    "\n",
    "sns.residplot(x = \"MLHawai_CO2ppm\", \n",
    "              y = \"CSIRO_ASLinches\", \n",
    "              data = df_merged_final, \n",
    "              lowess = True) \n",
    "plt.show() "
   ]
  },
  {
   "cell_type": "code",
   "execution_count": null,
   "metadata": {},
   "outputs": [],
   "source": [
    "#Scatter plot with seaborn to check the correlations - ZOOM INTO IT\n",
    "\n",
    "plt.figure(figsize=(10,8))\n",
    "ax = sns.scatterplot(x=\"Anamoly_CSIRO_ASLinches\", y=\"MLHawai_CO2ppm\", data=df_merged_final)\n",
    "\n",
    "ax.set(xlabel='Adjusted Sea Level Rise in Inches', ylabel='CO2 PPM')\n",
    "ax.set_title('Sea Level Rise vs CO2')\n",
    "plt.show()"
   ]
  },
  {
   "cell_type": "code",
   "execution_count": null,
   "metadata": {},
   "outputs": [],
   "source": [
    "# Sea level visualization\n",
    "df_sealevel=MAIN_GRID[2][1]\n",
    "\n",
    "sealevel_chart=alt.Chart(df_sealevel).mark_line().encode(\n",
    "    x='Year:Q',\n",
    "    y=alt.Y('CSIRO - Adjusted sea level (inches):Q', \n",
    "    title='Adjusted Sea Level Rise in Inches'),\n",
    ")\n",
    "\n",
    "Regline = sealevel_chart.transform_regression('Year', 'CSIRO - Adjusted sea level (inches)', method=\"linear\"\n",
    ").mark_line(color=\"red\")\n",
    "\n",
    "alt.layer(Regline, \n",
    "    sealevel_chart, \n",
    "    title='Annual Sea Level Rise'\n",
    ").properties(\n",
    "    height=HEIGHT,\n",
    "    width=WIDTH\n",
    ").configure(\n",
    "    padding={\"left\": PAD, \"top\": PAD, \"right\": PAD, \"bottom\": PAD}\n",
    ")\n"
   ]
  },
  {
   "cell_type": "code",
   "execution_count": null,
   "metadata": {},
   "outputs": [],
   "source": [
    "# Snow cover visualization\n",
    "df_snow_cover=MAIN_GRID[2][2]\n",
    "\n",
    "snow_chart=alt.Chart(df_snow_cover).mark_line().encode(\n",
    "    x='Year:Q',\n",
    "    y=alt.Y('Average mi^2:Q', scale=alt.Scale(domain=(3000000, 3700000)))\n",
    ")\n",
    "\n",
    "Regline = snow_chart.transform_regression('Year', 'Average mi^2', method=\"linear\"\n",
    ").mark_line(color=\"red\")\n",
    "\n",
    "alt.layer(Regline, \n",
    "    snow_chart, \n",
    "    title='Snow Cover Levels'\n",
    ").properties(\n",
    "    height=HEIGHT,\n",
    "    width=WIDTH\n",
    ").configure(\n",
    "    padding={\"left\": PAD, \"top\": PAD, \"right\": PAD, \"bottom\": PAD}\n",
    ")"
   ]
  },
  {
   "cell_type": "code",
   "execution_count": null,
   "metadata": {},
   "outputs": [],
   "source": [
    "# GHG chart - adding the regline seems to crash the visualization, not sure why\n",
    "df_ghg=MAIN_GRID[2][0]\n",
    "\n",
    "ghg_chart=alt.Chart(df_ghg).mark_line().encode(\n",
    "    x=alt.X('Year (negative values = BC):Q', \n",
    "        title='Year', \n",
    "        scale=alt.Scale(domain=(1959, 2020))),\n",
    "    y=alt.Y('Mauna Loa, Hawaii:Q', \n",
    "        title='CO2 PPM', \n",
    "        scale=alt.Scale(domain=(300, 420)))\n",
    ").properties(\n",
    "    title='CO2 Levels in PPM',\n",
    "    height=HEIGHT,\n",
    "    width=WIDTH\n",
    ").configure(\n",
    "    padding={\"left\": PAD, \"top\": PAD, \"right\": PAD, \"bottom\": PAD}\n",
    ")\n",
    "\n",
    "# Regline= ghg_chart.transform_regression('Year (negative values = BC)', 'Mauna Loa, Hawaii',method=\"linear\"\n",
    "# ).mark_line(color=\"red\")\n",
    "\n",
    "# alt.layer(Regline, ghg_chart).properties(height=400, width=700)\n",
    "\n",
    "ghg_chart"
   ]
  },
  {
   "cell_type": "code",
   "execution_count": null,
   "metadata": {},
   "outputs": [],
   "source": [
    "viewMapping()\n"
   ]
  },
  {
   "cell_type": "code",
   "execution_count": null,
   "metadata": {},
   "outputs": [],
   "source": [
    "def transformDf(df):\n",
    "    df = df.rename(index=df[\"Economic Sector\"])\n",
    "    df = df.drop(columns=[\"Economic Sector\"])\n",
    "    year = []\n",
    "    sector = []\n",
    "    emission = []\n",
    "    for i in df.columns:\n",
    "        for j in df.index.values:\n",
    "            year.append(i)\n",
    "            sector.append(j)\n",
    "            emission.append(df[i][j])\n",
    "    return pd.DataFrame({'Year':year, 'Sector':sector, 'Emission':emission}) \n",
    "\n",
    "emisAll = MAIN_GRID[1][2]\n",
    "emisAll = emisAll.drop(emisAll[emisAll[\"Economic Sector\"] == \"Total\"].index)\n",
    "emisAll = transformDf(emisAll)\n",
    "\n",
    "alt.Chart(emisAll).mark_line().encode(\n",
    "    x=alt.X('Year:O', scale=alt.Scale(zero=False)),\n",
    "    y=alt.Y('Emission:Q', scale=alt.Scale(zero=False)),\n",
    "    color=\"Sector\"\n",
    ").properties(\n",
    "    title=\"Emission By Sector\",\n",
    "    height=HEIGHT,\n",
    "    width=WIDTH\n",
    ").configure(\n",
    "    padding={\"left\": PAD, \"top\": PAD, \"right\": PAD, \"bottom\": PAD}\n",
    ")"
   ]
  },
  {
   "cell_type": "code",
   "execution_count": null,
   "metadata": {},
   "outputs": [],
   "source": [
    "emisTotal = MAIN_GRID[1][2]\n",
    "emisTotal = transformDf(emisTotal)\n",
    "\n",
    "for idx, row in emisTotal.iterrows():\n",
    "    if row[\"Sector\"] != \"Total\":\n",
    "        emisTotal = emisTotal.drop([idx])\n",
    "\n",
    "chart = alt.Chart(emisTotal).mark_line(color=\"orange\").encode(\n",
    "    x=alt.X('Year:O', scale=alt.Scale(zero=False)),\n",
    "    y=alt.Y('Emission:Q', scale=alt.Scale(zero=False))\n",
    ").properties(\n",
    "    title=\"Total Emission Rate of all Sectors by Year\",\n",
    "    height=HEIGHT,\n",
    "    width=WIDTH\n",
    ")\n",
    "\n",
    "chart = chart + chart.transform_regression(\"Year\", \"Emission\").mark_line(color=\"black\")\n",
    "\n",
    "alt.layer(chart).configure(\n",
    "    padding={\"left\": PAD, \"top\": PAD, \"right\": PAD, \"bottom\": PAD}\n",
    ")"
   ]
  },
  {
   "cell_type": "code",
   "execution_count": null,
   "metadata": {},
   "outputs": [],
   "source": []
  }
 ]
}