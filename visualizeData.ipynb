{
 "metadata": {
  "language_info": {
   "codemirror_mode": {
    "name": "ipython",
    "version": 3
   },
   "file_extension": ".py",
   "mimetype": "text/x-python",
   "name": "python",
   "nbconvert_exporter": "python",
   "pygments_lexer": "ipython3",
   "version": "3.8.6-final"
  },
  "orig_nbformat": 2,
  "kernelspec": {
   "name": "python3",
   "display_name": "Python 3.8.6 64-bit",
   "metadata": {
    "interpreter": {
     "hash": "61376a8c859ea19f3c23e4a04a8b5fd872fbbfd5bf884388c44f67684c0f5519"
    }
   }
  }
 },
 "nbformat": 4,
 "nbformat_minor": 2,
 "cells": [
  {
   "cell_type": "code",
   "execution_count": null,
   "metadata": {},
   "outputs": [],
   "source": [
    "# Import libraries\n",
    "import altair as alt\n",
    "import seaborn as sns\n",
    "import matplotlib.pyplot as plt\n",
    "\n",
    "# Define constants\n",
    "PAD    = 25\n",
    "HEIGHT = 300\n",
    "WIDTH  = 500\n",
    "\n",
    "# Run Previous ipynb files\n",
    "%run analyzeData.ipynb"
   ]
  },
  {
   "cell_type": "code",
   "execution_count": null,
   "metadata": {},
   "outputs": [],
   "source": [
    "# Temperature Anomadf_merged_final - OMIT\n",
    "df_merged_final\n",
    "\n",
    "alt.Chart(df_merged_final).mark_bar().encode(\n",
    "    x=alt.X('Year_Merge:O', \n",
    "        scale=alt.Scale(zero=False),\n",
    "        title=\"Year\"),\n",
    "    y=alt.Y('Anomaly_TmpCls:Q', \n",
    "        scale=alt.Scale(zero=False),\n",
    "        title=\"Temperature °C\"),\n",
    "    color=alt.Color('MLHawai_CO2ppm:Q', \n",
    "        scale=alt.Scale(range=[\"pink\", \"red\"]),\n",
    "        title=\"CO2 ppm\")\n",
    ").properties(\n",
    "    title=\"Temperature Anomaly\",\n",
    "    height=HEIGHT,\n",
    "    width=WIDTH\n",
    ").configure(\n",
    "    padding={\"left\": PAD, \"top\": PAD, \"right\": PAD, \"bottom\": PAD}\n",
    ")"
   ]
  },
  {
   "cell_type": "code",
   "execution_count": null,
   "metadata": {},
   "outputs": [],
   "source": [
    "# Mean annual Temperature + Anomaly for 57 years\n",
    "domain = [3,10]\n",
    "range_ = ['cyan', 'black']\n",
    "\n",
    "chart1 = alt.Chart(df_merged_final).mark_bar().encode(\n",
    "    x=alt.X('Year_Merge:O', title='Year'),\n",
    "    y=alt.Y('Tmp_Cls:Q', title='Temperature °C'),\n",
    "    color=alt.Color('Tmp_Cls:Q', scale=alt.Scale(domain=domain, range=range_))\n",
    ").properties(\n",
    "    height=HEIGHT,\n",
    "    width=WIDTH\n",
    ")\n",
    "\n",
    "chart2 = alt.Chart(df_merged_final).encode(\n",
    "    x=alt.X('Year_Merge:O', title='Year'),\n",
    "    y=alt.Y('Anomaly_TmpCls:Q', title='Temperature °C'),\n",
    ").properties(\n",
    "    height=HEIGHT,\n",
    "    width=WIDTH\n",
    ")\n",
    "\n",
    "alt.layer(chart1.mark_bar(),\n",
    "    chart2.mark_rule(color='orange'),\n",
    "    title='Mean Annual Temperature + Anomaly (USA)'\n",
    ").configure(\n",
    "    padding={\"left\": PAD, \"top\": PAD, \"right\": PAD, \"bottom\": PAD}\n",
    ")"
   ]
  },
  {
   "cell_type": "code",
   "execution_count": null,
   "metadata": {},
   "outputs": [],
   "source": [
    "# Precipitation Anomaly for 57 years - OMIT\n",
    "\n",
    "alt.Chart(df_merged_final).mark_bar().encode(\n",
    "    x=alt.X('Year_Merge:O', scale=alt.Scale(zero=False)),\n",
    "    y=alt.Y('Anomaly_RnfMM:Q', scale=alt.Scale(zero=False, padding=1)),\n",
    "    color='MLHawai_CO2ppm:Q'\n",
    ").properties(\n",
    "    height=HEIGHT,\n",
    "    width=WIDTH\n",
    ").configure(\n",
    "    padding={\"left\": PAD, \"top\": PAD, \"right\": PAD, \"bottom\": PAD}\n",
    ")"
   ]
  },
  {
   "cell_type": "code",
   "execution_count": null,
   "metadata": {},
   "outputs": [],
   "source": [
    "# Mean Annual Precipitation + Anomaly for 57 years\n",
    "\n",
    "chart1 = alt.Chart(df_merged_final).encode(\n",
    "    x=alt.X('Year_Merge:O', title='Year'),\n",
    "    y=alt.Y('Rnf_MM:Q', title='Rainfall in MM'),\n",
    "    color='Rnf_MM:Q'\n",
    ").properties(\n",
    "    height=HEIGHT,\n",
    "    width=WIDTH\n",
    ")\n",
    "\n",
    "chart2 = alt.Chart(df_merged_final).encode(\n",
    "    x=alt.X('Year_Merge:O', title='Year'),\n",
    "    y=alt.Y('Anomaly_RnfMM:Q', title='Rainfall in MM'),\n",
    ").properties(\n",
    "    height=HEIGHT,\n",
    "    width=WIDTH\n",
    ")\n",
    "\n",
    "alt.layer(chart1.mark_bar(),\n",
    "    chart2.mark_rule(color='orange'),\n",
    "    title='Mean Annual Precipitation + Anomaly (USA)'\n",
    ").configure(\n",
    "    padding={\"left\": PAD, \"top\": PAD, \"right\": PAD, \"bottom\": PAD}\n",
    ")"
   ]
  },
  {
   "cell_type": "code",
   "execution_count": null,
   "metadata": {},
   "outputs": [],
   "source": [
    "# Sea level rise Anomaly for 57 - OMIT\n",
    "df_merged_final\n",
    "\n",
    "alt.Chart(df_merged_final).mark_bar().encode(\n",
    "    x=alt.X('Year_Merge:O', scale=alt.Scale(zero=False)),\n",
    "    y=alt.Y('Anomaly_CSIRO_ASLinches:Q', scale=alt.Scale(zero=False, padding=1)),\n",
    "    color='MLHawai_CO2ppm:Q',\n",
    ").properties(\n",
    "    height=HEIGHT,\n",
    "    width=WIDTH\n",
    ").configure(\n",
    "    padding={\"left\": PAD, \"top\": PAD, \"right\": PAD, \"bottom\": PAD}\n",
    ")"
   ]
  },
  {
   "cell_type": "code",
   "execution_count": null,
   "metadata": {},
   "outputs": [],
   "source": [
    "# Sea level rise + Anomaly for 57 years\n",
    "\n",
    "chart1 = alt.Chart(df_merged_final).encode(\n",
    "    x=alt.X('Year_Merge:O', title='Year'),\n",
    "    y=alt.Y('CSIRO_ASLinches:Q', title='Adjusted Sea Level Rise in Inches'),\n",
    "    color='CSIRO_ASLinches:Q'\n",
    ").properties(\n",
    "    height=HEIGHT,\n",
    "    width=WIDTH\n",
    ")\n",
    "\n",
    "chart2 = alt.Chart(df_merged_final).encode(\n",
    "   x=alt.X('Year_Merge:O', title='Year'),\n",
    "    y=alt.Y('Anomaly_CSIRO_ASLinches:Q', title='Adjusted Sea Level Rise in Inches'),\n",
    ").properties(\n",
    "    height=HEIGHT,\n",
    "    width=WIDTH\n",
    ")\n",
    "\n",
    "alt.layer(chart1.mark_bar(),\n",
    "    chart2.mark_rule(color='orange'),\n",
    "    title='Annual Sea Level Rise + Anomaly (Global)'\n",
    ").configure(\n",
    "    padding={\"left\": PAD, \"top\": PAD, \"right\": PAD, \"bottom\": PAD}\n",
    ")"
   ]
  },
  {
   "cell_type": "code",
   "execution_count": null,
   "metadata": {},
   "outputs": [],
   "source": [
    "# Histogram #Normality Check - OMIT\n",
    "\n",
    "alt.Chart(df_precip_f).mark_bar().encode(\n",
    "    x=alt.X( \"Rnf_MM:Q\", bin= True), #alt.BinParams(maxbins=100)\n",
    "    y='count(*):Q'\n",
    ").properties(\n",
    "    height=HEIGHT,\n",
    "    width=WIDTH\n",
    ").configure(\n",
    "    padding={\"left\": PAD, \"top\": PAD, \"right\": PAD, \"bottom\": PAD}\n",
    ")"
   ]
  },
  {
   "cell_type": "code",
   "execution_count": null,
   "metadata": {},
   "outputs": [],
   "source": [
    "# Scatter Plot - Distribution\n",
    "\n",
    "alt.Chart(df_merged_final).mark_circle().encode(\n",
    "    x=alt.X(alt.repeat(\"column\"), type='quantitative'),\n",
    "    y=alt.Y(alt.repeat(\"row\"), type='quantitative'),\n",
    "    color='Year_Merge:O'\n",
    ").properties(\n",
    "    width=100,\n",
    "    height=100\n",
    ").repeat(\n",
    "    column=['Rnf_MM','Tmp_Cls','CSIRO_ASLinches','MLHawai_CO2ppm'],\n",
    "    row=['MLHawai_CO2ppm','CSIRO_ASLinches','Tmp_Cls','Rnf_MM']\n",
    ").configure(\n",
    "    padding={\"left\": PAD, \"top\": PAD, \"right\": PAD, \"bottom\": PAD}\n",
    ")"
   ]
  },
  {
   "cell_type": "code",
   "execution_count": null,
   "metadata": {},
   "outputs": [],
   "source": [
    "# Scatter Plot - Distribution - OMIT\n",
    "\n",
    "alt.Chart(df_merged_final).mark_circle().encode(\n",
    "    x=alt.X('Year_Merge:O', scale=alt.Scale(zero=False)),\n",
    "    y=alt.Y('Tmp_Cls:Q', scale=alt.Scale(zero=False, padding=1)),\n",
    "    color='Anomaly_TmpCls:Q',\n",
    "    size='MLHawai_CO2ppm:Q'\n",
    ").properties(\n",
    "    height=HEIGHT,\n",
    "    width=WIDTH\n",
    ").configure(\n",
    "    padding={\"left\": PAD, \"top\": PAD, \"right\": PAD, \"bottom\": PAD}\n",
    ")"
   ]
  },
  {
   "cell_type": "code",
   "execution_count": null,
   "metadata": {},
   "outputs": [],
   "source": [
    "# Residuals scatterplot to check Homoscedasticity of the attributes - OMIT\n",
    "\n",
    "sns.residplot(x = \"MLHawai_CO2ppm\", \n",
    "              y = \"Tmp_Cls\", \n",
    "              data = df_merged_final) \n",
    "  \n",
    "plt.show() "
   ]
  },
  {
   "cell_type": "code",
   "execution_count": null,
   "metadata": {},
   "outputs": [],
   "source": [
    "#residuals scatterplot to check Homoscedasticity of the attributes. - OMIT\n",
    "\n",
    "sns.residplot(x = \"MLHawai_CO2ppm\", \n",
    "              y = \"CSIRO_ASLinches\", \n",
    "              data = df_merged_final, \n",
    "              lowess = True) \n",
    "plt.show() "
   ]
  },
  {
   "cell_type": "code",
   "execution_count": null,
   "metadata": {},
   "outputs": [],
   "source": [
    "#Scatter plot with seaborn to check the correlations - ZOOM INTO IT\n",
    "\n",
    "plt.figure(figsize=(10,8))\n",
    "ax = sns.scatterplot(x=\"Anomaly_CSIRO_ASLinches\", y=\"MLHawai_CO2ppm\", data=df_merged_final)\n",
    "\n",
    "ax.set(xlabel='Adjusted Sea Level Rise in Inches', ylabel='CO2 PPM')\n",
    "ax.set_title('Sea Level Rise vs CO2')\n",
    "plt.show()"
   ]
  },
  {
   "cell_type": "code",
   "execution_count": null,
   "metadata": {},
   "outputs": [],
   "source": [
    "# Sea level visualization\n",
    "df_sealevel=MAIN_GRID[2][1]\n",
    "\n",
    "sealevel_chart=alt.Chart(df_sealevel).mark_line().encode(\n",
    "    x='Year:Q',\n",
    "    y=alt.Y('CSIRO - Adjusted sea level (inches):Q', \n",
    "    title='Adjusted Sea Level Rise in Inches'),\n",
    ")\n",
    "\n",
    "Regline = sealevel_chart.transform_regression('Year', 'CSIRO - Adjusted sea level (inches)', method=\"linear\"\n",
    ").mark_line(color=\"red\")\n",
    "\n",
    "alt.layer(Regline, \n",
    "    sealevel_chart, \n",
    "    title='Annual Sea Level Rise'\n",
    ").properties(\n",
    "    height=HEIGHT,\n",
    "    width=WIDTH\n",
    ").configure(\n",
    "    padding={\"left\": PAD, \"top\": PAD, \"right\": PAD, \"bottom\": PAD}\n",
    ")\n"
   ]
  },
  {
   "cell_type": "code",
   "execution_count": null,
   "metadata": {},
   "outputs": [],
   "source": [
    "# Snow cover visualization\n",
    "df_snow_cover=MAIN_GRID[2][2]\n",
    "\n",
    "snow_chart=alt.Chart(df_snow_cover).mark_line().encode(\n",
    "    x='Year:Q',\n",
    "    y=alt.Y('Average mi^2:Q', scale=alt.Scale(domain=(3000000, 3700000)))\n",
    ")\n",
    "\n",
    "Regline = snow_chart.transform_regression('Year', 'Average mi^2', method=\"poly\", order=3\n",
    ").mark_line(color=\"red\")\n",
    "\n",
    "alt.layer(Regline, \n",
    "    snow_chart, \n",
    "    title='Snow Cover Levels'\n",
    ").properties(\n",
    "    height=HEIGHT,\n",
    "    width=WIDTH\n",
    ").configure(\n",
    "    padding={\"left\": PAD, \"top\": PAD, \"right\": PAD, \"bottom\": PAD}\n",
    ")"
   ]
  },
  {
   "cell_type": "code",
   "execution_count": null,
   "metadata": {},
   "outputs": [],
   "source": [
    "# GHG chart - adding the regline seems to crash the visualization, not sure why\n",
    "df_ghg=MAIN_GRID[2][0]\n",
    "\n",
    "ghg_chart=alt.Chart(df_ghg).mark_line().encode(\n",
    "    x=alt.X('Year (negative values = BC):Q', \n",
    "        title='Year', \n",
    "        scale=alt.Scale(domain=(1959, 2020))),\n",
    "    y=alt.Y('Mauna Loa, Hawaii:Q', \n",
    "        title='CO2 PPM', \n",
    "        scale=alt.Scale(domain=(300, 420)))\n",
    ").properties(\n",
    "    title='CO2 Levels in PPM',\n",
    "    height=HEIGHT,\n",
    "    width=WIDTH\n",
    ").configure(\n",
    "    padding={\"left\": PAD, \"top\": PAD, \"right\": PAD, \"bottom\": PAD}\n",
    ")\n",
    "\n",
    "# Regline= ghg_chart.transform_regression('Year (negative values = BC)', 'Mauna Loa, Hawaii',method=\"linear\"\n",
    "# ).mark_line(color=\"red\")\n",
    "\n",
    "# alt.layer(Regline, ghg_chart).properties(height=400, width=700)\n",
    "\n",
    "ghg_chart"
   ]
  },
  {
   "cell_type": "code",
   "execution_count": null,
   "metadata": {},
   "outputs": [],
   "source": [
    "def graphLines(df, x, y, color, title):\n",
    "    return alt.Chart(df).mark_line().encode(\n",
    "    x=alt.X(x, scale=alt.Scale(zero=False)),\n",
    "    y=alt.Y(y, scale=alt.Scale(zero=False)),\n",
    "    color=color\n",
    ").properties(\n",
    "    title=title,\n",
    "    height=HEIGHT,\n",
    "    width=WIDTH\n",
    ").configure(\n",
    "    padding={\"left\": PAD, \"top\": PAD, \"right\": PAD, \"bottom\": PAD}\n",
    ")\n",
    "\n",
    "def graphPie(df, title):\n",
    "    return df.plot.pie(\n",
    "    subplots=True, \n",
    "    shadow=True, \n",
    "    autopct=\"%1.1f%%\",\n",
    "    fontsize=14,\n",
    "    legend=False,\n",
    "    title=title,\n",
    "    figsize=(7,7)\n",
    ")"
   ]
  },
  {
   "cell_type": "code",
   "execution_count": null,
   "metadata": {},
   "outputs": [],
   "source": [
    "graphLines(emisAll, \"Year:O\", \"Emission:Q\", \"Sector\", \"Emission By Sector\")"
   ]
  },
  {
   "cell_type": "code",
   "execution_count": null,
   "metadata": {},
   "outputs": [],
   "source": [
    "chart = alt.Chart(emisTotal).mark_line(color=\"orange\").encode(\n",
    "    x=alt.X('Year:O', scale=alt.Scale(zero=False)),\n",
    "    y=alt.Y('Emission:Q', scale=alt.Scale(zero=False))\n",
    ").properties(\n",
    "    title=\"Total Emission Rate of all Sectors by Year\",\n",
    "    height=HEIGHT,\n",
    "    width=WIDTH\n",
    ")\n",
    "\n",
    "chart = chart + chart.transform_regression(\"Year\", \"Emission\").mark_line(color=\"black\")\n",
    "\n",
    "alt.layer(chart).configure(\n",
    "    padding={\"left\": PAD, \"top\": PAD, \"right\": PAD, \"bottom\": PAD}\n",
    ")"
   ]
  },
  {
   "cell_type": "code",
   "execution_count": null,
   "metadata": {},
   "outputs": [],
   "source": [
    "graphPie(emisBySector, \"Average Emission By Sector 1990 - 2018\")"
   ]
  },
  {
   "cell_type": "code",
   "execution_count": null,
   "metadata": {},
   "outputs": [],
   "source": [
    "graphLines(emisElectric, \"Year:Q\", \"Emission:Q\", \"Sector\", \"Emission from Electrcitiy Generation\")"
   ]
  },
  {
   "cell_type": "code",
   "execution_count": null,
   "metadata": {},
   "outputs": [],
   "source": [
    "graphLines(emisTransport, \"Year:Q\", \"Emission:Q\", \"Sector\", \"Emission from Transporation\")"
   ]
  },
  {
   "cell_type": "code",
   "execution_count": null,
   "metadata": {},
   "outputs": [],
   "source": [
    "graphPie(emisByGas, \"Average Gas Emission 1990 - 2018\")"
   ]
  },
  {
   "cell_type": "code",
   "execution_count": null,
   "metadata": {},
   "outputs": [],
   "source": [
    "tempDf = df_merged_final\n",
    "tempDf = tempDf.iloc[1:]\n",
    "cols = tempDf.columns\n",
    "x=str(cols[0])\n",
    "y=str(cols[3])\n",
    "\n",
    "tempGraph = alt.Chart(tempDf).mark_circle(color=\"black\").encode(\n",
    "    x=alt.X(x + \":Q\", \n",
    "        scale=alt.Scale(domain=(1960, 2015)),\n",
    "        title=\"Year\"),\n",
    "    y=alt.Y(y + \":Q\", \n",
    "        scale=alt.Scale(domain=(6, 8.5)),\n",
    "        title=\"Temp °C\")\n",
    ").properties(\n",
    "    title=\"Temperature °C in US from 1960 - 2015\",\n",
    "    height=HEIGHT,\n",
    "    width=WIDTH-250\n",
    ")\n",
    "\n",
    "polynomial_fit = [\n",
    "    tempGraph.transform_regression(\n",
    "        x, y, method=\"poly\", order=order, as_=[x, str(order)]\n",
    "    ).mark_line(size=3)\n",
    "    .transform_fold([str(order)], as_=[\"degree\", y])\n",
    "    .encode(alt.Color(\"degree:N\"))\n",
    "    for order in [1, 5]\n",
    "]\n",
    "\n",
    "alt.layer(tempGraph, *polynomial_fit).configure(\n",
    "     padding={\"left\": PAD, \"top\": PAD, \"right\": PAD, \"bottom\": PAD}\n",
    ")"
   ]
  },
  {
   "cell_type": "code",
   "execution_count": null,
   "metadata": {},
   "outputs": [],
   "source": []
  }
 ]
}