{
 "metadata": {
  "language_info": {
   "codemirror_mode": {
    "name": "ipython",
    "version": 3
   },
   "file_extension": ".py",
   "mimetype": "text/x-python",
   "name": "python",
   "nbconvert_exporter": "python",
   "pygments_lexer": "ipython3",
   "version": "3.8.6-final"
  },
  "orig_nbformat": 2,
  "kernelspec": {
   "name": "python3",
   "display_name": "Python 3.8.6 64-bit",
   "metadata": {
    "interpreter": {
     "hash": "61376a8c859ea19f3c23e4a04a8b5fd872fbbfd5bf884388c44f67684c0f5519"
    }
   }
  }
 },
 "nbformat": 4,
 "nbformat_minor": 2,
 "cells": [
  {
   "cell_type": "code",
   "execution_count": null,
   "metadata": {},
   "outputs": [],
   "source": [
    "print(\"hello world\")"
   ]
  },
  {
   "cell_type": "code",
   "execution_count": null,
   "metadata": {},
   "outputs": [],
   "source": [
    "# Import libraries\n",
    "\n",
    "import altair as alt"
   ]
  },
  {
   "cell_type": "code",
   "execution_count": null,
   "metadata": {},
   "outputs": [],
   "source": [
    "%run analyzeData.ipynb"
   ]
  },
  {
   "cell_type": "code",
   "execution_count": null,
   "metadata": {},
   "outputs": [],
   "source": [
    "df = MAIN_GRID[1][2]\n",
    "\n",
    "# Get row\n",
    "df.loc[df['Economic Sector'] == 'Agriculture']\n",
    "\n",
    "# Get column\n",
    "df['1990']"
   ]
  },
  {
   "cell_type": "code",
   "execution_count": null,
   "metadata": {},
   "outputs": [],
   "source": [
    "#Temperature Anamodf_merged_final\n",
    "df_merged_final\n",
    "\n",
    "alt.Chart(df_merged_final).mark_bar().encode(\n",
    "    alt.X('Year_Merge:O', scale=alt.Scale(zero=False)),\n",
    "    alt.Y('Anamoly_TmpCls:Q', scale=alt.Scale(zero=False, padding=1)),\n",
    "    color='MLHawai_CO2ppm:Q',\n",
    "    #size='MLHawai_CO2ppm:Q'\n",
    ")\n"
   ]
  },
  {
   "cell_type": "code",
   "execution_count": null,
   "metadata": {},
   "outputs": [],
   "source": [
    "# Mean annual Temperature + Anamoly for 57 years\n",
    "import altair as alt\n",
    "from vega_datasets import data\n",
    "\n",
    "#iris = data.iris.url\n",
    "\n",
    "chart1 = alt.Chart(df_merged_final).encode(\n",
    "    x='Year_Merge:O',\n",
    "    y='Tmp_Cls:Q',\n",
    "    color='Tmp_Cls:Q'\n",
    ").properties(\n",
    "    height=300,\n",
    "    width=600\n",
    ")\n",
    "\n",
    "chart2 = alt.Chart(df_merged_final).encode(\n",
    "    x= 'Year_Merge:O',\n",
    "    y='Anamoly_TmpCls:Q',#, bin=alt.Bin(maxbins=30)),\n",
    "    #color='MLHawai_CO2ppm:Q'\n",
    ").properties(\n",
    "    height=300,\n",
    "    width=600\n",
    ")\n",
    "\n",
    "alt.layer(chart1.mark_bar(),chart2.mark_rule())"
   ]
  },
  {
   "cell_type": "code",
   "execution_count": null,
   "metadata": {},
   "outputs": [],
   "source": [
    "#Precipitation Anamoly for 57 years - OMIT\n",
    "df_merged_final\n",
    "\n",
    "alt.Chart(df_merged_final).mark_bar().encode(\n",
    "    alt.X('Year_Merge:O', scale=alt.Scale(zero=False)),\n",
    "    alt.Y('Anamoly_RnfMM:Q', scale=alt.Scale(zero=False, padding=1)),\n",
    "    color='MLHawai_CO2ppm:Q',\n",
    "    #size='MLHawai_CO2ppm:Q'\n",
    ")"
   ]
  },
  {
   "cell_type": "code",
   "execution_count": null,
   "metadata": {},
   "outputs": [],
   "source": [
    "# Mean Annual Precipitation + Anamoly for 57 years\n",
    "import altair as alt\n",
    "from vega_datasets import data\n",
    "\n",
    "#iris = data.iris.url\n",
    "\n",
    "chart1 = alt.Chart(df_merged_final).encode(\n",
    "    x='Year_Merge:O',\n",
    "    y='Rnf_MM:Q',\n",
    "    color='Rnf_MM:Q'\n",
    ").properties(\n",
    "    height=300,\n",
    "    width=600\n",
    ")\n",
    "\n",
    "chart2 = alt.Chart(df_merged_final).encode(\n",
    "    x= 'Year_Merge:O',\n",
    "    y='Anamoly_RnfMM:Q',#, bin=alt.Bin(maxbins=30)),\n",
    "    #color='MLHawai_CO2ppm:Q'\n",
    ").properties(\n",
    "    height=300,\n",
    "    width=600\n",
    ")\n",
    "\n",
    "alt.layer(chart1.mark_bar(),chart2.mark_rule())"
   ]
  },
  {
   "cell_type": "code",
   "execution_count": null,
   "metadata": {},
   "outputs": [],
   "source": [
    "#Sea level rise Anamoly for 57 -\n",
    "df_merged_final\n",
    "\n",
    "alt.Chart(df_merged_final).mark_bar().encode(\n",
    "    alt.X('Year_Merge:O', scale=alt.Scale(zero=False)),\n",
    "    alt.Y('Anamoly_CSIRO_ASLinches:Q', scale=alt.Scale(zero=False, padding=1)),\n",
    "    color='MLHawai_CO2ppm:Q',\n",
    "    #size='Anamoly_CSIRO_ASLinches:Q'\n",
    ")"
   ]
  },
  {
   "cell_type": "code",
   "execution_count": null,
   "metadata": {},
   "outputs": [],
   "source": [
    "#Sea level rise + Anamoly for 57 years\n",
    "import altair as alt\n",
    "from vega_datasets import data\n",
    "\n",
    "#iris = data.iris.url\n",
    "\n",
    "chart1 = alt.Chart(df_merged_final).encode(\n",
    "    x='Year_Merge:O',\n",
    "    y='CSIRO_ASLinches:Q',\n",
    "    color='CSIRO_ASLinches:Q'\n",
    ").properties(\n",
    "    height=300,\n",
    "    width=600\n",
    ")\n",
    "\n",
    "chart2 = alt.Chart(df_merged_final).encode(\n",
    "    x= 'Year_Merge:O',\n",
    "    y='Anamoly_CSIRO_ASLinches:Q',#, bin=alt.Bin(maxbins=30)),\n",
    "    #color='MLHawai_CO2ppm:Q'\n",
    ").properties(\n",
    "    height=300,\n",
    "    width=1500\n",
    ")\n",
    "\n",
    "alt.layer(chart1.mark_bar(),chart2.mark_rule())"
   ]
  },
  {
   "cell_type": "code",
   "execution_count": null,
   "metadata": {},
   "outputs": [],
   "source": [
    "# histogram plot #Normality Check\n",
    "import pandas as pd\n",
    "import altair as alt\n",
    "import numpy as np\n",
    "\n",
    "alt.Chart(df1_filter).mark_bar().encode(\n",
    "    alt.X( \"Rnf_MM:Q\",\n",
    "          bin= True), #alt.BinParams(maxbins=100)\n",
    "    y='count(*):Q'\n",
    ")"
   ]
  },
  {
   "cell_type": "code",
   "execution_count": null,
   "metadata": {},
   "outputs": [],
   "source": [
    "#Scatter Plot # Distribution\n",
    "import altair as alt\n",
    "from vega_datasets import data\n",
    "\n",
    "alt.Chart(df_merged_final).mark_circle().encode(\n",
    "    alt.X(alt.repeat(\"column\"), type='quantitative'),\n",
    "    alt.Y(alt.repeat(\"row\"), type='quantitative'),\n",
    "    color='Year_Merge:O'\n",
    ").properties(\n",
    "    width=200,\n",
    "    height=200\n",
    ").repeat(\n",
    "    column=['Rnf_MM','Tmp_Cls','CSIRO_ASLinches','MLHawai_CO2ppm'],\n",
    "    row=['MLHawai_CO2ppm','CSIRO_ASLinches','Tmp_Cls','Rnf_MM']\n",
    ")"
   ]
  },
  {
   "cell_type": "code",
   "execution_count": null,
   "metadata": {},
   "outputs": [],
   "source": [
    "#Scatter Plot # Distribution - OMIT\n",
    "\n",
    "import altair as alt\n",
    "from vega_datasets import data\n",
    "\n",
    "alt.Chart(df_merged_final).mark_circle().encode(\n",
    "    alt.X('Year_Merge:O', scale=alt.Scale(zero=False)),\n",
    "    alt.Y('Tmp_Cls:Q', scale=alt.Scale(zero=False, padding=1)),\n",
    "    color='Anamoly_TmpCls:Q',\n",
    "    size='MLHawai_CO2ppm:Q'\n",
    ")\n"
   ]
  },
  {
   "cell_type": "code",
   "execution_count": null,
   "metadata": {},
   "outputs": [],
   "source": [
    "#residuals scatterplot to check Homoscedasticity of the attributes. \n",
    "#Note-!!!Couldn't figure out in Altair so used seaborn, and matplotlib. - OMIT\n",
    "import seaborn as sns \n",
    "import matplotlib.pyplot as plt \n",
    "  \n",
    "# draw residplot \n",
    "sns.residplot(x = \"MLHawai_CO2ppm\", \n",
    "              y = \"Tmp_Cls\", \n",
    "              data = df_merged_final) \n",
    "  \n",
    "# show the plot \n",
    "plt.show() "
   ]
  },
  {
   "cell_type": "code",
   "execution_count": null,
   "metadata": {},
   "outputs": [],
   "source": [
    "#residuals scatterplot to check Homoscedasticity of the attributes.\n",
    "#Note-!!! Couldn't figure out in Altair so used seaborn, and matplotlib. - OMIT\n",
    "\n",
    "import seaborn as sns \n",
    "import matplotlib.pyplot as plt \n",
    "  \n",
    "# draw residplot \n",
    "# with lowess = True \n",
    "sns.residplot(x = \"MLHawai_CO2ppm\", \n",
    "              y = \"CSIRO_ASLinches\", \n",
    "              data = df_merged_final, \n",
    "              lowess = True) \n",
    "  \n",
    "# show the plot \n",
    "plt.show() \n"
   ]
  },
  {
   "cell_type": "code",
   "execution_count": null,
   "metadata": {},
   "outputs": [],
   "source": [
    "#Scatter plot with seaborn to check the correlations - ZOOM INTO IT\n",
    "import seaborn as sns\n",
    "import matplotlib.pyplot as plt\n",
    "plt.figure(figsize=(10,8))\n",
    "sns.scatterplot(x=\"Anamoly_CSIRO_ASLinches\",y=\"MLHawai_CO2ppm\", data=df_merged_final)"
   ]
  },
  {
   "cell_type": "code",
   "execution_count": null,
   "metadata": {},
   "outputs": [],
   "source": [
    "#sea level visualization\n",
    "\n",
    "import altair as alt\n",
    "\n",
    "df_sealevel=MAIN_GRID[2][1]\n",
    "\n",
    "sealevel_chart=alt.Chart(df_sealevel).mark_line().encode(\n",
    "      x='Year:Q',\n",
    "      y='CSIRO - Adjusted sea level (inches):Q'\n",
    "  )\n",
    "\n",
    "\n",
    "Regline= sealevel_chart.transform_regression('Year', 'CSIRO - Adjusted sea level (inches)',method=\"linear\"\n",
    ").mark_line(color=\"red\")\n",
    "\n",
    "alt.layer(Regline, sealevel_chart).properties(width=700)"
   ]
  },
  {
   "cell_type": "code",
   "execution_count": null,
   "metadata": {},
   "outputs": [],
   "source": [
    "#snow cover visualization\n",
    "\n",
    "import altair as alt\n",
    "\n",
    "df_snow_cover=MAIN_GRID[2][2]\n",
    "\n",
    "snow_chart=alt.Chart(df_snow_cover).mark_line().encode(\n",
    "      x='Year:Q',\n",
    "      y=alt.Y('Average mi^2:Q', scale=alt.Scale(domain=(2800000, 3800000)))\n",
    "  )\n",
    "\n",
    "Regline= snow_chart.transform_regression('Year', 'Average mi^2',method=\"linear\"\n",
    ").mark_line(color=\"red\")\n",
    "\n",
    "alt.layer(Regline, snow_chart).properties(height=400, width=700)"
   ]
  },
  {
   "cell_type": "code",
   "execution_count": null,
   "metadata": {},
   "outputs": [],
   "source": [
    "#GHG chart - adding the regline seems to crash the visualization, not sure why\n",
    "import altair as alt\n",
    "\n",
    "df_ghg=MAIN_GRID[2][0]\n",
    "\n",
    "ghg_chart=alt.Chart(df_ghg).mark_line().encode(\n",
    "       x=alt.X('Year (negative values = BC):Q', scale=alt.Scale(domain=(1950, 2020))),\n",
    "       y=alt.Y('Mauna Loa, Hawaii:Q', scale=alt.Scale(domain=(300, 420)))\n",
    "   )\n",
    "\n",
    "Regline= ghg_chart.transform_regression('Year (negative values = BC)', 'Mauna Loa, Hawaii',method=\"linear\"\n",
    ").mark_line(color=\"red\")\n",
    "\n",
    "alt.layer(Regline, ghg_chart).properties(height=400, width=700)\n",
    "\n",
    "ghg_chart"
   ]
  },
  {
   "cell_type": "code",
   "execution_count": null,
   "metadata": {},
   "outputs": [],
   "source": []
  }
 ]
}